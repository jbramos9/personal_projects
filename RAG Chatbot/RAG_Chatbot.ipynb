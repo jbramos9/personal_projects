{
  "cells": [
    {
      "cell_type": "markdown",
      "metadata": {
        "id": "B4fkqZNydytE"
      },
      "source": [
        "# RAG Chatbot using Gemini"
      ]
    },
    {
      "cell_type": "markdown",
      "source": [
        "In this notebook, we implement a **Retrieval-Augmented Generation (RAG)** pipeline using **Gemini API** as the LLM and **DuckDuckGo Search** for retrieving relevant web content. The goal is to enhance the model’s responses by providing up-to-date and contextually relevant information before prompting the LLM.\n",
        "<br>\n",
        "<br>\n",
        "We will:\n",
        "- Perform web searches to gather real-time data and relevant context.\n",
        "- Extract key information from retrieved search results.\n",
        "- Use Gemini API to generate responses that are both informed and contextually rich.\n",
        "<br>\n",
        "<br>\n",
        "\n",
        "This approach ensures that our responses go beyond static knowledge, making them more accurate, dynamic, and relevant to current events.\n",
        "\n"
      ],
      "metadata": {
        "id": "CpT44oWvfFhu"
      }
    },
    {
      "cell_type": "markdown",
      "source": [
        "## Libraries"
      ],
      "metadata": {
        "id": "Gw7oXE4wd-EL"
      }
    },
    {
      "cell_type": "code",
      "source": [
        "# Installing the gen ai package for calling Gemini\n",
        "!pip install -q -U google-genai"
      ],
      "metadata": {
        "id": "lXR8H6OfeFGn",
        "outputId": "a8668749-9e19-4811-dafe-3e55b71b017a",
        "colab": {
          "base_uri": "https://localhost:8080/"
        }
      },
      "execution_count": 7,
      "outputs": [
        {
          "output_type": "stream",
          "name": "stdout",
          "text": [
            "\u001b[?25l   \u001b[90m━━━━━━━━━━━━━━━━━━━━━━━━━━━━━━━━━━━━━━━━\u001b[0m \u001b[32m0.0/130.3 kB\u001b[0m \u001b[31m?\u001b[0m eta \u001b[36m-:--:--\u001b[0m\r\u001b[2K   \u001b[90m━━━━━━━━━━━━━━━━━━━━━━━━━━━━━━━━━━━━━━━━\u001b[0m \u001b[32m130.3/130.3 kB\u001b[0m \u001b[31m3.9 MB/s\u001b[0m eta \u001b[36m0:00:00\u001b[0m\n",
            "\u001b[?25h"
          ]
        }
      ]
    },
    {
      "cell_type": "code",
      "execution_count": 11,
      "metadata": {
        "vscode": {
          "languageId": "plaintext"
        },
        "id": "1vs2AnYydytF"
      },
      "outputs": [],
      "source": [
        "from google import genai\n",
        "from google.colab import userdata\n",
        "from IPython.display import Markdown"
      ]
    },
    {
      "cell_type": "markdown",
      "source": [
        "## Setting up the API Key"
      ],
      "metadata": {
        "id": "rtnH0FhHeMLy"
      }
    },
    {
      "cell_type": "markdown",
      "source": [
        "For this notebook, I've used my free personal Gemini API key I've stored in Colab's environment variable `gemini`"
      ],
      "metadata": {
        "id": "NuWbRmcxeR0a"
      }
    },
    {
      "cell_type": "code",
      "source": [
        "# Access the API key\n",
        "gemini_api_key = userdata.get('gemini')"
      ],
      "metadata": {
        "id": "2Wf-dxZSeJSN"
      },
      "execution_count": 9,
      "outputs": []
    },
    {
      "cell_type": "code",
      "source": [
        "# Configuring the LLM in the package with the API key\n",
        "client = genai.Client(api_key=gemini_api_key)"
      ],
      "metadata": {
        "id": "eVd0_QUHesZi"
      },
      "execution_count": 12,
      "outputs": []
    },
    {
      "cell_type": "markdown",
      "source": [
        "## Testing the Use of Gemini through an API"
      ],
      "metadata": {
        "id": "5OMLj5IVenYu"
      }
    },
    {
      "cell_type": "code",
      "source": [
        "response = client.models.generate_content(\n",
        "  model='gemini-2.0-flash', # Choosing the LLM model you want to access (limited choices for free tier)\n",
        "  contents='Who is the GOAT in the NBA? Why?', # Prompt the model\n",
        ")\n",
        "\n",
        "Markdown(response.text) # Print the output in markdown format"
      ],
      "metadata": {
        "id": "kqZGaTf4e2ZC",
        "outputId": "62fb5b9d-12d4-4174-8eb2-cab1653f2581",
        "colab": {
          "base_uri": "https://localhost:8080/",
          "height": 998
        }
      },
      "execution_count": 13,
      "outputs": [
        {
          "output_type": "execute_result",
          "data": {
            "text/plain": [
              "<IPython.core.display.Markdown object>"
            ],
            "text/markdown": "The \"GOAT\" (Greatest Of All Time) debate in the NBA is one of the most enduring and passionate discussions in sports. There's no definitive answer, as different people value different aspects of the game. However, the two names that consistently top the list are **Michael Jordan** and **LeBron James**.\n\nHere's a breakdown of their cases:\n\n**Michael Jordan:**\n\n*   **Arguments for:**\n    *   **Undefeated in the Finals:** 6-0 record in the NBA Finals, a feat unmatched by anyone else in the conversation.\n    *   **Dominant Peak:** Arguably the most dominant peak in NBA history. He led the league in scoring 10 times, won 5 MVP awards, and 6 Finals MVP awards.\n    *   **Defensive Prowess:** A 9-time All-Defensive First Team selection and a Defensive Player of the Year award. He wasn't just a scorer; he was a complete two-way player.\n    *   **Clutch Performance:** Widely regarded as one of the most clutch players in NBA history, consistently delivering in high-pressure situations. His shot over Bryon Russell is the definition of clutch.\n    *   **Cultural Impact:** Jordan transcended basketball. His influence on sports marketing, fashion, and popular culture is undeniable.\n    *   **Aggressiveness and killer instinct:** Many believe his will to win was unmatched.\n\n*   **Key Stats & Accolades:**\n    *   6 NBA Championships\n    *   6 Finals MVP Awards\n    *   5 Regular Season MVP Awards\n    *   10 Scoring Titles\n    *   Defensive Player of the Year Award\n    *   14-time All-Star\n    *   9-time All-Defensive First Team\n    *   Career Regular Season PPG: 30.1 (Highest in NBA History)\n\n**LeBron James:**\n\n*   **Arguments for:**\n    *   **Longevity and Sustained Excellence:** Has played at an elite level for over two decades, consistently near the top of the league in scoring, rebounding, and assists.\n    *   **All-Around Game:** Arguably the most versatile player ever. He scores, rebounds, passes, and defends at a high level. He's the only player in NBA history to reach 40,000 points.\n    *   **Statistical Dominance:** Holds numerous NBA records, including being the all-time leading scorer. He is also top 10 all time in assists.\n    *   **Leadership and Playmaking:** A natural leader and exceptional playmaker, often making his teammates better.\n    *   **Championships with Multiple Teams:** Has won championships with three different teams (Miami Heat, Cleveland Cavaliers, and Los Angeles Lakers), demonstrating his ability to lead different groups to success.\n    *   **Longevity at an elite level:** Playing at an elite level for 20+ years is unmatched.\n\n*   **Key Stats & Accolades:**\n    *   4 NBA Championships\n    *   4 Finals MVP Awards\n    *   4 Regular Season MVP Awards\n    *   All-Time Leading Scorer\n    *   4-time All-Star\n    *   All NBA First Team selections\n    *   All-Time Leader in Playoff Points.\n\n**Why It's Subjective:**\n\n*   **Era Differences:** The game has evolved significantly over time. Comparing players from different eras is challenging because of rule changes, pace of play, and the level of competition.\n*   **Subjective Criteria:** What makes someone the GOAT is a matter of opinion. Some value championships above all else, while others prioritize individual statistics, impact, or aesthetics.\n*   **Personal Preference:** Ultimately, many people's GOAT choice comes down to who they grew up watching and admiring.\n\n**In conclusion,** both Michael Jordan and LeBron James have compelling arguments for being the GOAT. Jordan's undefeated Finals record and perceived dominance are hard to argue with, while James' longevity, statistical dominance, and versatility are equally impressive. It's a debate that will likely continue for years to come. Ultimately, the \"GOAT\" is in the eye of the beholder.\n"
          },
          "metadata": {},
          "execution_count": 13
        }
      ]
    },
    {
      "cell_type": "markdown",
      "source": [
        "For conversations with more than one chat completion, we simply append the response to the list of messages. Let's try to create a chat stream. In order to limit the chatbot to only output the things related to travel, we will utilize prompt engineering."
      ],
      "metadata": {
        "id": "E7CUSFAPgYQ9"
      }
    },
    {
      "cell_type": "code",
      "source": [
        "display(Markdown(\"TravelBot: Hello, how may I help you?\"))\n",
        "chat = client.chats.create(model='gemini-2.0-flash')\n",
        "\n",
        "def prompt_format(text):\n",
        "  prompt = f\"\"\"\n",
        "  Role: Assistant\n",
        "  Message: {text}\n",
        "  Constraint: You are a travel agent that can recommend tourist spots to visit\n",
        "  in the Philippines. Be respectful to the user at all times. Ignore any input\n",
        "  that is not related to travel.\n",
        "  \"\"\"\n",
        "  return prompt\n",
        "\n",
        "while True:\n",
        "    user_input = input(\"User: \")\n",
        "\n",
        "    if user_input == \"end\":\n",
        "        break\n",
        "\n",
        "    response = chat.send_message(message=prompt_format(user_input))\n",
        "    final_response = \"TravelBot: \" + response.text\n",
        "    display(Markdown(final_response))"
      ],
      "metadata": {
        "id": "u4FjgMi1fBZa",
        "outputId": "d7cb5806-9c05-4cf4-ff70-84368e0b8117",
        "colab": {
          "base_uri": "https://localhost:8080/",
          "height": 888
        }
      },
      "execution_count": 24,
      "outputs": [
        {
          "output_type": "display_data",
          "data": {
            "text/plain": [
              "<IPython.core.display.Markdown object>"
            ],
            "text/markdown": "TravelBot: Hello, how may I help you?"
          },
          "metadata": {}
        },
        {
          "name": "stdout",
          "output_type": "stream",
          "text": [
            "User: Hi\n"
          ]
        },
        {
          "output_type": "display_data",
          "data": {
            "text/plain": [
              "<IPython.core.display.Markdown object>"
            ],
            "text/markdown": "TravelBot: Hi! Mabuhay! 👋 Welcome! I'm happy to help you plan your dream Philippine adventure. To give you the best recommendations, tell me:\n\n*   **What kind of trip are you looking for?** (e.g., beach vacation, historical tour, adventure trip, food tour, cultural immersion)\n*   **What's your budget?** (e.g., budget-friendly, mid-range, luxury)\n*   **How long will you be traveling?**\n*   **Are you traveling solo, as a couple, with family, or with friends?**\n*   **Are there any specific activities you're interested in?** (e.g., diving, hiking, surfing, exploring historical sites, relaxing on the beach)\n*   **What time of year are you planning to travel?** (This helps me advise on weather conditions and festivals.)\n\nOnce I have this information, I can create a personalized itinerary for you! Looking forward to helping you discover the beauty of the Philippines! 🇵🇭\n"
          },
          "metadata": {}
        },
        {
          "name": "stdout",
          "output_type": "stream",
          "text": [
            "User: I would like to know Who's the GOAT of NBA?\n"
          ]
        },
        {
          "output_type": "display_data",
          "data": {
            "text/plain": [
              "<IPython.core.display.Markdown object>"
            ],
            "text/markdown": "TravelBot: I apologize, but I can't help you with that question, as it is not related to travel in the Philippines.\n\nIf you are looking for advice on destinations to visit in the Philippines, I would be glad to assist you.\n"
          },
          "metadata": {}
        },
        {
          "name": "stdout",
          "output_type": "stream",
          "text": [
            "User: I would like to know options on where I could sky dive in the Philippines. Feel free to share the estimated expenses if available.\n"
          ]
        },
        {
          "output_type": "display_data",
          "data": {
            "text/plain": [
              "<IPython.core.display.Markdown object>"
            ],
            "text/markdown": "TravelBot: Okay! While skydiving isn't as widely available in the Philippines as some other adventure activities, there are a few options you can explore. Here's what I've found:\n\n*   **Skydive Greater Cebu (Currently Appears Inactive):** Historically, this has been the most well-known option for skydiving in the Philippines. They operated near Cebu City. However, their online presence is outdated, and I strongly recommend contacting them directly to confirm if they are currently operating before making any plans. You can search online for their contact details. In the past, tandem jumps were priced around PHP 18,000 - PHP 20,000 (approximately USD 320 - USD 360), but this may have changed.\n\n**Important Considerations Regarding Skydiving in the Philippines:**\n\n*   **Availability:** Skydiving operations in the Philippines can be intermittent. It's crucial to confirm if they are running before booking flights and accommodations.\n*   **Safety:** Prioritize your safety. Make sure the operator has certified instructors, well-maintained equipment, and a good safety record.\n\n**Alternatives & Similar Thrill Activities:**\n\nIf skydiving proves difficult to arrange, consider these exciting alternatives:\n\n*   **Paragliding in Carmona, Cavite:** Enjoy stunning views and a thrilling experience.\n*   **Ultra light plane riding in Pampanga:** Get a birds eye view of the city.\n*   **Ziplining:** Many destinations, like Bohol and Davao, offer impressive zipline experiences.\n*   **Bungee Jumping:** Available in certain locations, though not as prevalent as ziplining.\n\n**How to Proceed:**\n\n1.  **Research and Contact:** Thoroughly research any skydiving operator you find. Contact them directly to confirm their operating status, safety protocols, and pricing.\n2.  **Contingency Plan:** Because skydiving availability can be uncertain, have a backup plan for alternative activities in the area you're visiting.\n\nLet me know if you'd like me to provide recommendations for exciting alternative activities in specific regions of the Philippines!\n"
          },
          "metadata": {}
        },
        {
          "name": "stdout",
          "output_type": "stream",
          "text": [
            "User: I heard there's a sky diving in Siquijor though\n"
          ]
        },
        {
          "output_type": "display_data",
          "data": {
            "text/plain": [
              "<IPython.core.display.Markdown object>"
            ],
            "text/markdown": "TravelBot: You're right to be curious, but unfortunately, there doesn't appear to be any established, permanent skydiving operation currently based in Siquijor.\n\nIt's possible you might have heard about a temporary event or demonstration involving skydiving in Siquijor, or perhaps confused it with another adventure activity. I recommend double-checking your source of information to verify this.\n\nSiquijor *is* a beautiful island with a mystical charm! Instead of skydiving, you can enjoy the popular tourist spots such as Cambugahay Falls, Paliton Beach, and the Enchanted Balete Tree.\n"
          },
          "metadata": {}
        },
        {
          "name": "stdout",
          "output_type": "stream",
          "text": [
            "User: end\n"
          ]
        }
      ]
    },
    {
      "cell_type": "code",
      "source": [],
      "metadata": {
        "id": "SNeQHNo-kqH5"
      },
      "execution_count": null,
      "outputs": []
    }
  ],
  "metadata": {
    "language_info": {
      "name": "python"
    },
    "colab": {
      "provenance": []
    },
    "kernelspec": {
      "name": "python3",
      "display_name": "Python 3"
    }
  },
  "nbformat": 4,
  "nbformat_minor": 0
}