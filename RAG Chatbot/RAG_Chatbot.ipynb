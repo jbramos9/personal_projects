{
  "cells": [
    {
      "cell_type": "markdown",
      "metadata": {
        "id": "B4fkqZNydytE"
      },
      "source": [
        "# RAG Chatbot using Gemini"
      ]
    },
    {
      "cell_type": "markdown",
      "source": [
        "In this notebook, we implement a **Retrieval-Augmented Generation (RAG)** pipeline using a **vector database** built from a file as the knowledge source. information.\n",
        "<br>\n",
        "<br>\n",
        "We will:\n",
        "\n",
        "- Process and embed text data from the file.\n",
        "- Store and index embeddings in a vector database for efficient retrieval.\n",
        "- Retrieve relevant context based on user queries.\n",
        "- Use Gemini API to generate responses enriched with retrieved knowledge.\n",
        "<br>\n",
        "<br>\n",
        "\n",
        "This approach enables context-aware, accurate, and knowledge-grounded responses, making the model more effective for domain-specific tasks.\n",
        "\n",
        "\n"
      ],
      "metadata": {
        "id": "CpT44oWvfFhu"
      }
    },
    {
      "cell_type": "markdown",
      "source": [
        "## Libraries"
      ],
      "metadata": {
        "id": "Gw7oXE4wd-EL"
      }
    },
    {
      "cell_type": "code",
      "source": [
        "# Installing the gen ai package for calling Gemini\n",
        "!pip install -q -U google-genai langchain langchain-google-genai faiss-cpu langchain-community"
      ],
      "metadata": {
        "id": "lXR8H6OfeFGn"
      },
      "execution_count": 1,
      "outputs": []
    },
    {
      "cell_type": "code",
      "execution_count": 2,
      "metadata": {
        "vscode": {
          "languageId": "plaintext"
        },
        "id": "1vs2AnYydytF"
      },
      "outputs": [],
      "source": [
        "from google import genai\n",
        "from google.colab import userdata\n",
        "from IPython.display import Markdown\n",
        "import pandas as pd\n",
        "import numpy as np\n",
        "import time\n",
        "from itertools import islice\n",
        "from tqdm import tqdm\n",
        "\n",
        "from langchain_google_genai import GoogleGenerativeAIEmbeddings, ChatGoogleGenerativeAI\n",
        "from langchain.vectorstores import FAISS\n",
        "from faiss import IndexFlatL2\n",
        "from langchain_community.docstore.in_memory import InMemoryDocstore\n",
        "from langchain.schema import Document\n",
        "from uuid import uuid4"
      ]
    },
    {
      "cell_type": "markdown",
      "source": [
        "## Setting up the API Key"
      ],
      "metadata": {
        "id": "rtnH0FhHeMLy"
      }
    },
    {
      "cell_type": "markdown",
      "source": [
        "For this notebook, I've used my free personal Gemini API key I've stored in Colab's environment variable `gemini`"
      ],
      "metadata": {
        "id": "NuWbRmcxeR0a"
      }
    },
    {
      "cell_type": "code",
      "source": [
        "# Access the API key\n",
        "gemini_api_key = userdata.get('gemini')"
      ],
      "metadata": {
        "id": "2Wf-dxZSeJSN"
      },
      "execution_count": 3,
      "outputs": []
    },
    {
      "cell_type": "code",
      "source": [
        "# Configuring the LLM in the package with the API key\n",
        "client = genai.Client(api_key=gemini_api_key)"
      ],
      "metadata": {
        "id": "eVd0_QUHesZi"
      },
      "execution_count": 4,
      "outputs": []
    },
    {
      "cell_type": "markdown",
      "source": [
        "## Testing the Use of Gemini through an API"
      ],
      "metadata": {
        "id": "5OMLj5IVenYu"
      }
    },
    {
      "cell_type": "code",
      "source": [
        "response = client.models.generate_content(\n",
        "  model='gemini-2.0-flash', # Choosing the LLM model you want to access (limited choices for free tier)\n",
        "  contents='Who is the GOAT in the NBA? Why?', # Prompt the model\n",
        ")\n",
        "\n",
        "Markdown(response.text) # Print the output in markdown format"
      ],
      "metadata": {
        "id": "kqZGaTf4e2ZC",
        "outputId": "909fa4d4-8a0f-480b-b94f-b6a819986d7e",
        "colab": {
          "base_uri": "https://localhost:8080/",
          "height": 888
        }
      },
      "execution_count": 5,
      "outputs": [
        {
          "output_type": "execute_result",
          "data": {
            "text/plain": [
              "<IPython.core.display.Markdown object>"
            ],
            "text/markdown": "The \"GOAT\" (Greatest Of All Time) debate in the NBA is one of the most enduring and passionate topics in sports. There's no single, universally agreed-upon answer, as different people value different aspects of the game.  However, the two names that consistently dominate the discussion are **Michael Jordan** and **LeBron James**.\n\nHere's a breakdown of why each is considered the GOAT, along with some counterarguments:\n\n**Michael Jordan:**\n\n*   **Arguments FOR being the GOAT:**\n\n    *   **Unmatched Dominance:** Jordan led the Chicago Bulls to **two three-peats** (1991-1993 and 1996-1998), showcasing unparalleled dominance over an entire era. He never lost in the NBA Finals (6-0).\n    *   **Scoring Prowess:** Jordan holds the record for the **highest career regular season scoring average (30.1 PPG)**. He won **10 scoring titles**.\n    *   **Defensive Excellence:** He was a **9-time All-Defensive First Team selection** and won the **Defensive Player of the Year** award in 1988.\n    *   **Clutch Performance:** Jordan is renowned for his clutch shots and \"killer instinct,\" consistently performing at his best in high-pressure situations.\n    *   **Perfect Finals Record:** 6 NBA Finals appearances, 6 NBA Championships, 6 NBA Finals MVP awards.\n    *   **Cultural Impact:** Jordan transcended basketball and became a global icon, influencing fashion, marketing, and popular culture.\n\n*   **Counterarguments:**\n\n    *   **Played in a Less Deep Era:** Some argue the competition in the 1990s wasn't as strong as in other eras.\n    *   **Teammates:** Jordan had Scottie Pippen, arguably one of the best two-way players ever, which contributed to his success. While true, Pippen didn't win any titles without Jordan.\n    *   **Short Retirement:** Jordan's time away from the game (retiring to play baseball) allowed his body to recover.\n\n**LeBron James:**\n\n*   **Arguments FOR being the GOAT:**\n\n    *   **Longevity and Versatility:** James has maintained an incredibly high level of play for over 20 years. He has played in 10 NBA finals. He is a four-time champion.\n    *   **All-Around Game:** James is arguably the most complete player in NBA history. He is a dominant scorer, rebounder, and passer.\n    *   **Statistical Dominance:** He holds the NBA record for **all-time points scored**, and is fourth on the all-time assist list. He is the only player in NBA history to rank in the top 10 for points and assists.\n    *   **Leadership and Playmaking:** James is a gifted playmaker and has elevated the play of his teammates throughout his career.\n    *   **Success with Multiple Teams:** James won championships with three different franchises (Miami Heat, Cleveland Cavaliers, and Los Angeles Lakers), demonstrating his ability to adapt and lead in different environments.\n    *   **Durability:** James has remained remarkably healthy throughout his career.\n\n*   **Counterarguments:**\n\n    *   **Championship Record:** James has a losing record in the NBA Finals (4-6).\n    *   **Reliance on Superteams:** He's been criticized for forming \"superteams\" (Miami Heat, Cleveland Cavaliers) to compete for championships.\n    *   **Free Throw Shooting:** He is not known for his free throw shooting.\n\n**The Verdict (It's Subjective!):**\n\nUltimately, the \"GOAT\" is a matter of opinion. There's no objective way to declare a definitive winner.  Both Jordan and James have compelling arguments, and their accomplishments are undeniable.\n\n**Factors to Consider when forming your own opinion:**\n\n*   **Era:**  Consider the different eras in which they played and the relative strength of the competition.\n*   **Statistics:** Analyze their statistical achievements, but also consider the context in which those stats were achieved.\n*   **Championships:**  Championships are a team achievement, but they are often used as a key measure of individual greatness.\n*   **Impact:**  Consider their impact on the game, both on and off the court.\n*   **Subjective Factors:**  Ultimately, personal preference and individual interpretations of \"greatness\" will play a role in your conclusion.\n\nMany argue that it is not productive to compare the two because their games, roles, and eras are all so different. It may be more useful and insightful to simply appreciate the greatness of both players.\n"
          },
          "metadata": {},
          "execution_count": 5
        }
      ]
    },
    {
      "cell_type": "markdown",
      "source": [
        "For conversations with more than one chat completion, we simply append the response to the list of messages. Let's try to create a chat stream. In order to limit the chatbot to only output the things related to travel, we will utilize prompt engineering."
      ],
      "metadata": {
        "id": "E7CUSFAPgYQ9"
      }
    },
    {
      "cell_type": "code",
      "source": [
        "display(Markdown(\"TravelBot: Hello, how may I help you?\"))\n",
        "chat = client.chats.create(model='gemini-2.0-flash')\n",
        "\n",
        "def prompt_format(text):\n",
        "  prompt = f\"\"\"\n",
        "  Role: Assistant\n",
        "  Message: {text}\n",
        "  Constraint: You are a travel agent that can recommend tourist spots to visit\n",
        "  in the Philippines. Be respectful to the user at all times. Ignore any input\n",
        "  that is not related to travel.\n",
        "  \"\"\"\n",
        "  return prompt\n",
        "\n",
        "while True:\n",
        "    user_input = input(\"User: \")\n",
        "\n",
        "    if user_input == \"end\":\n",
        "        break\n",
        "\n",
        "    response = chat.send_message(message=prompt_format(user_input))\n",
        "    final_response = \"TravelBot: \" + response.text\n",
        "    display(Markdown(final_response))"
      ],
      "metadata": {
        "id": "u4FjgMi1fBZa",
        "outputId": "d7cb5806-9c05-4cf4-ff70-84368e0b8117",
        "colab": {
          "base_uri": "https://localhost:8080/",
          "height": 888
        }
      },
      "execution_count": null,
      "outputs": [
        {
          "output_type": "display_data",
          "data": {
            "text/plain": [
              "<IPython.core.display.Markdown object>"
            ],
            "text/markdown": "TravelBot: Hello, how may I help you?"
          },
          "metadata": {}
        },
        {
          "name": "stdout",
          "output_type": "stream",
          "text": [
            "User: Hi\n"
          ]
        },
        {
          "output_type": "display_data",
          "data": {
            "text/plain": [
              "<IPython.core.display.Markdown object>"
            ],
            "text/markdown": "TravelBot: Hi! Mabuhay! 👋 Welcome! I'm happy to help you plan your dream Philippine adventure. To give you the best recommendations, tell me:\n\n*   **What kind of trip are you looking for?** (e.g., beach vacation, historical tour, adventure trip, food tour, cultural immersion)\n*   **What's your budget?** (e.g., budget-friendly, mid-range, luxury)\n*   **How long will you be traveling?**\n*   **Are you traveling solo, as a couple, with family, or with friends?**\n*   **Are there any specific activities you're interested in?** (e.g., diving, hiking, surfing, exploring historical sites, relaxing on the beach)\n*   **What time of year are you planning to travel?** (This helps me advise on weather conditions and festivals.)\n\nOnce I have this information, I can create a personalized itinerary for you! Looking forward to helping you discover the beauty of the Philippines! 🇵🇭\n"
          },
          "metadata": {}
        },
        {
          "name": "stdout",
          "output_type": "stream",
          "text": [
            "User: I would like to know Who's the GOAT of NBA?\n"
          ]
        },
        {
          "output_type": "display_data",
          "data": {
            "text/plain": [
              "<IPython.core.display.Markdown object>"
            ],
            "text/markdown": "TravelBot: I apologize, but I can't help you with that question, as it is not related to travel in the Philippines.\n\nIf you are looking for advice on destinations to visit in the Philippines, I would be glad to assist you.\n"
          },
          "metadata": {}
        },
        {
          "name": "stdout",
          "output_type": "stream",
          "text": [
            "User: I would like to know options on where I could sky dive in the Philippines. Feel free to share the estimated expenses if available.\n"
          ]
        },
        {
          "output_type": "display_data",
          "data": {
            "text/plain": [
              "<IPython.core.display.Markdown object>"
            ],
            "text/markdown": "TravelBot: Okay! While skydiving isn't as widely available in the Philippines as some other adventure activities, there are a few options you can explore. Here's what I've found:\n\n*   **Skydive Greater Cebu (Currently Appears Inactive):** Historically, this has been the most well-known option for skydiving in the Philippines. They operated near Cebu City. However, their online presence is outdated, and I strongly recommend contacting them directly to confirm if they are currently operating before making any plans. You can search online for their contact details. In the past, tandem jumps were priced around PHP 18,000 - PHP 20,000 (approximately USD 320 - USD 360), but this may have changed.\n\n**Important Considerations Regarding Skydiving in the Philippines:**\n\n*   **Availability:** Skydiving operations in the Philippines can be intermittent. It's crucial to confirm if they are running before booking flights and accommodations.\n*   **Safety:** Prioritize your safety. Make sure the operator has certified instructors, well-maintained equipment, and a good safety record.\n\n**Alternatives & Similar Thrill Activities:**\n\nIf skydiving proves difficult to arrange, consider these exciting alternatives:\n\n*   **Paragliding in Carmona, Cavite:** Enjoy stunning views and a thrilling experience.\n*   **Ultra light plane riding in Pampanga:** Get a birds eye view of the city.\n*   **Ziplining:** Many destinations, like Bohol and Davao, offer impressive zipline experiences.\n*   **Bungee Jumping:** Available in certain locations, though not as prevalent as ziplining.\n\n**How to Proceed:**\n\n1.  **Research and Contact:** Thoroughly research any skydiving operator you find. Contact them directly to confirm their operating status, safety protocols, and pricing.\n2.  **Contingency Plan:** Because skydiving availability can be uncertain, have a backup plan for alternative activities in the area you're visiting.\n\nLet me know if you'd like me to provide recommendations for exciting alternative activities in specific regions of the Philippines!\n"
          },
          "metadata": {}
        },
        {
          "name": "stdout",
          "output_type": "stream",
          "text": [
            "User: I heard there's a sky diving in Siquijor though\n"
          ]
        },
        {
          "output_type": "display_data",
          "data": {
            "text/plain": [
              "<IPython.core.display.Markdown object>"
            ],
            "text/markdown": "TravelBot: You're right to be curious, but unfortunately, there doesn't appear to be any established, permanent skydiving operation currently based in Siquijor.\n\nIt's possible you might have heard about a temporary event or demonstration involving skydiving in Siquijor, or perhaps confused it with another adventure activity. I recommend double-checking your source of information to verify this.\n\nSiquijor *is* a beautiful island with a mystical charm! Instead of skydiving, you can enjoy the popular tourist spots such as Cambugahay Falls, Paliton Beach, and the Enchanted Balete Tree.\n"
          },
          "metadata": {}
        },
        {
          "name": "stdout",
          "output_type": "stream",
          "text": [
            "User: end\n"
          ]
        }
      ]
    },
    {
      "cell_type": "markdown",
      "source": [
        "## Translation Data to be Used as Knowledge Base"
      ],
      "metadata": {
        "id": "6IXU4EnEN3TP"
      }
    },
    {
      "cell_type": "markdown",
      "source": [
        "Dataset Source: https://huggingface.co/datasets/rhyliieee/tagalog-filipino-english-translation\n",
        "\n",
        "Required to have a HuggingFace account to get a token for access"
      ],
      "metadata": {
        "id": "nTOWuz6OTdJu"
      }
    },
    {
      "cell_type": "code",
      "source": [
        "splits = {'train': 'train_data.csv', 'test': 'test_data.csv'}\n",
        "\n",
        "train_df = pd.read_csv(\"hf://datasets/rhyliieee/tagalog-filipino-english-translation/\" + splits[\"train\"])\n",
        "print(\"Train Data\")\n",
        "display(train_df.head(5))\n",
        "\n",
        "test_df = pd.read_csv(\"hf://datasets/rhyliieee/tagalog-filipino-english-translation/\" + splits[\"test\"])\n",
        "print(\"\\nTest Data\")\n",
        "display(test_df.head(5))"
      ],
      "metadata": {
        "colab": {
          "base_uri": "https://localhost:8080/",
          "height": 447
        },
        "id": "vWKN5-pCHSEv",
        "outputId": "94fc39d4-b92f-4d08-af86-ba5844062d3e"
      },
      "execution_count": 6,
      "outputs": [
        {
          "output_type": "stream",
          "name": "stdout",
          "text": [
            "Train Data\n"
          ]
        },
        {
          "output_type": "display_data",
          "data": {
            "text/plain": [
              "                                             tagalog  \\\n",
              "0   Ilarawan kung ano ang makikita mo kung pupunt...   \n",
              "1    Saang bansa ipinanganak si Pangulong Roosevelt?   \n",
              "2   Dahil sa pangalan ng kanta, hulaan ang genre ...   \n",
              "3  Maghanap ng limang pang-uri na naglalarawan sa...   \n",
              "4  Ilarawan kung paano ang papel ng kasaysayan sa...   \n",
              "\n",
              "                                             english  \n",
              "0  Describe what you would see if you went to the...  \n",
              "1      In what country was President Roosevelt born?  \n",
              "2  Given a song name, predict the genre of the song.  \n",
              "3     Find five adjectives that describe a windy day  \n",
              "4  Describe how the role of history in today's wo...  "
            ],
            "text/html": [
              "\n",
              "  <div id=\"df-137119f7-ce79-4977-9439-2345f54f9ed7\" class=\"colab-df-container\">\n",
              "    <div>\n",
              "<style scoped>\n",
              "    .dataframe tbody tr th:only-of-type {\n",
              "        vertical-align: middle;\n",
              "    }\n",
              "\n",
              "    .dataframe tbody tr th {\n",
              "        vertical-align: top;\n",
              "    }\n",
              "\n",
              "    .dataframe thead th {\n",
              "        text-align: right;\n",
              "    }\n",
              "</style>\n",
              "<table border=\"1\" class=\"dataframe\">\n",
              "  <thead>\n",
              "    <tr style=\"text-align: right;\">\n",
              "      <th></th>\n",
              "      <th>tagalog</th>\n",
              "      <th>english</th>\n",
              "    </tr>\n",
              "  </thead>\n",
              "  <tbody>\n",
              "    <tr>\n",
              "      <th>0</th>\n",
              "      <td>Ilarawan kung ano ang makikita mo kung pupunt...</td>\n",
              "      <td>Describe what you would see if you went to the...</td>\n",
              "    </tr>\n",
              "    <tr>\n",
              "      <th>1</th>\n",
              "      <td>Saang bansa ipinanganak si Pangulong Roosevelt?</td>\n",
              "      <td>In what country was President Roosevelt born?</td>\n",
              "    </tr>\n",
              "    <tr>\n",
              "      <th>2</th>\n",
              "      <td>Dahil sa pangalan ng kanta, hulaan ang genre ...</td>\n",
              "      <td>Given a song name, predict the genre of the song.</td>\n",
              "    </tr>\n",
              "    <tr>\n",
              "      <th>3</th>\n",
              "      <td>Maghanap ng limang pang-uri na naglalarawan sa...</td>\n",
              "      <td>Find five adjectives that describe a windy day</td>\n",
              "    </tr>\n",
              "    <tr>\n",
              "      <th>4</th>\n",
              "      <td>Ilarawan kung paano ang papel ng kasaysayan sa...</td>\n",
              "      <td>Describe how the role of history in today's wo...</td>\n",
              "    </tr>\n",
              "  </tbody>\n",
              "</table>\n",
              "</div>\n",
              "    <div class=\"colab-df-buttons\">\n",
              "\n",
              "  <div class=\"colab-df-container\">\n",
              "    <button class=\"colab-df-convert\" onclick=\"convertToInteractive('df-137119f7-ce79-4977-9439-2345f54f9ed7')\"\n",
              "            title=\"Convert this dataframe to an interactive table.\"\n",
              "            style=\"display:none;\">\n",
              "\n",
              "  <svg xmlns=\"http://www.w3.org/2000/svg\" height=\"24px\" viewBox=\"0 -960 960 960\">\n",
              "    <path d=\"M120-120v-720h720v720H120Zm60-500h600v-160H180v160Zm220 220h160v-160H400v160Zm0 220h160v-160H400v160ZM180-400h160v-160H180v160Zm440 0h160v-160H620v160ZM180-180h160v-160H180v160Zm440 0h160v-160H620v160Z\"/>\n",
              "  </svg>\n",
              "    </button>\n",
              "\n",
              "  <style>\n",
              "    .colab-df-container {\n",
              "      display:flex;\n",
              "      gap: 12px;\n",
              "    }\n",
              "\n",
              "    .colab-df-convert {\n",
              "      background-color: #E8F0FE;\n",
              "      border: none;\n",
              "      border-radius: 50%;\n",
              "      cursor: pointer;\n",
              "      display: none;\n",
              "      fill: #1967D2;\n",
              "      height: 32px;\n",
              "      padding: 0 0 0 0;\n",
              "      width: 32px;\n",
              "    }\n",
              "\n",
              "    .colab-df-convert:hover {\n",
              "      background-color: #E2EBFA;\n",
              "      box-shadow: 0px 1px 2px rgba(60, 64, 67, 0.3), 0px 1px 3px 1px rgba(60, 64, 67, 0.15);\n",
              "      fill: #174EA6;\n",
              "    }\n",
              "\n",
              "    .colab-df-buttons div {\n",
              "      margin-bottom: 4px;\n",
              "    }\n",
              "\n",
              "    [theme=dark] .colab-df-convert {\n",
              "      background-color: #3B4455;\n",
              "      fill: #D2E3FC;\n",
              "    }\n",
              "\n",
              "    [theme=dark] .colab-df-convert:hover {\n",
              "      background-color: #434B5C;\n",
              "      box-shadow: 0px 1px 3px 1px rgba(0, 0, 0, 0.15);\n",
              "      filter: drop-shadow(0px 1px 2px rgba(0, 0, 0, 0.3));\n",
              "      fill: #FFFFFF;\n",
              "    }\n",
              "  </style>\n",
              "\n",
              "    <script>\n",
              "      const buttonEl =\n",
              "        document.querySelector('#df-137119f7-ce79-4977-9439-2345f54f9ed7 button.colab-df-convert');\n",
              "      buttonEl.style.display =\n",
              "        google.colab.kernel.accessAllowed ? 'block' : 'none';\n",
              "\n",
              "      async function convertToInteractive(key) {\n",
              "        const element = document.querySelector('#df-137119f7-ce79-4977-9439-2345f54f9ed7');\n",
              "        const dataTable =\n",
              "          await google.colab.kernel.invokeFunction('convertToInteractive',\n",
              "                                                    [key], {});\n",
              "        if (!dataTable) return;\n",
              "\n",
              "        const docLinkHtml = 'Like what you see? Visit the ' +\n",
              "          '<a target=\"_blank\" href=https://colab.research.google.com/notebooks/data_table.ipynb>data table notebook</a>'\n",
              "          + ' to learn more about interactive tables.';\n",
              "        element.innerHTML = '';\n",
              "        dataTable['output_type'] = 'display_data';\n",
              "        await google.colab.output.renderOutput(dataTable, element);\n",
              "        const docLink = document.createElement('div');\n",
              "        docLink.innerHTML = docLinkHtml;\n",
              "        element.appendChild(docLink);\n",
              "      }\n",
              "    </script>\n",
              "  </div>\n",
              "\n",
              "\n",
              "<div id=\"df-64e4102d-b122-4e08-927d-ab3bf94bc3a7\">\n",
              "  <button class=\"colab-df-quickchart\" onclick=\"quickchart('df-64e4102d-b122-4e08-927d-ab3bf94bc3a7')\"\n",
              "            title=\"Suggest charts\"\n",
              "            style=\"display:none;\">\n",
              "\n",
              "<svg xmlns=\"http://www.w3.org/2000/svg\" height=\"24px\"viewBox=\"0 0 24 24\"\n",
              "     width=\"24px\">\n",
              "    <g>\n",
              "        <path d=\"M19 3H5c-1.1 0-2 .9-2 2v14c0 1.1.9 2 2 2h14c1.1 0 2-.9 2-2V5c0-1.1-.9-2-2-2zM9 17H7v-7h2v7zm4 0h-2V7h2v10zm4 0h-2v-4h2v4z\"/>\n",
              "    </g>\n",
              "</svg>\n",
              "  </button>\n",
              "\n",
              "<style>\n",
              "  .colab-df-quickchart {\n",
              "      --bg-color: #E8F0FE;\n",
              "      --fill-color: #1967D2;\n",
              "      --hover-bg-color: #E2EBFA;\n",
              "      --hover-fill-color: #174EA6;\n",
              "      --disabled-fill-color: #AAA;\n",
              "      --disabled-bg-color: #DDD;\n",
              "  }\n",
              "\n",
              "  [theme=dark] .colab-df-quickchart {\n",
              "      --bg-color: #3B4455;\n",
              "      --fill-color: #D2E3FC;\n",
              "      --hover-bg-color: #434B5C;\n",
              "      --hover-fill-color: #FFFFFF;\n",
              "      --disabled-bg-color: #3B4455;\n",
              "      --disabled-fill-color: #666;\n",
              "  }\n",
              "\n",
              "  .colab-df-quickchart {\n",
              "    background-color: var(--bg-color);\n",
              "    border: none;\n",
              "    border-radius: 50%;\n",
              "    cursor: pointer;\n",
              "    display: none;\n",
              "    fill: var(--fill-color);\n",
              "    height: 32px;\n",
              "    padding: 0;\n",
              "    width: 32px;\n",
              "  }\n",
              "\n",
              "  .colab-df-quickchart:hover {\n",
              "    background-color: var(--hover-bg-color);\n",
              "    box-shadow: 0 1px 2px rgba(60, 64, 67, 0.3), 0 1px 3px 1px rgba(60, 64, 67, 0.15);\n",
              "    fill: var(--button-hover-fill-color);\n",
              "  }\n",
              "\n",
              "  .colab-df-quickchart-complete:disabled,\n",
              "  .colab-df-quickchart-complete:disabled:hover {\n",
              "    background-color: var(--disabled-bg-color);\n",
              "    fill: var(--disabled-fill-color);\n",
              "    box-shadow: none;\n",
              "  }\n",
              "\n",
              "  .colab-df-spinner {\n",
              "    border: 2px solid var(--fill-color);\n",
              "    border-color: transparent;\n",
              "    border-bottom-color: var(--fill-color);\n",
              "    animation:\n",
              "      spin 1s steps(1) infinite;\n",
              "  }\n",
              "\n",
              "  @keyframes spin {\n",
              "    0% {\n",
              "      border-color: transparent;\n",
              "      border-bottom-color: var(--fill-color);\n",
              "      border-left-color: var(--fill-color);\n",
              "    }\n",
              "    20% {\n",
              "      border-color: transparent;\n",
              "      border-left-color: var(--fill-color);\n",
              "      border-top-color: var(--fill-color);\n",
              "    }\n",
              "    30% {\n",
              "      border-color: transparent;\n",
              "      border-left-color: var(--fill-color);\n",
              "      border-top-color: var(--fill-color);\n",
              "      border-right-color: var(--fill-color);\n",
              "    }\n",
              "    40% {\n",
              "      border-color: transparent;\n",
              "      border-right-color: var(--fill-color);\n",
              "      border-top-color: var(--fill-color);\n",
              "    }\n",
              "    60% {\n",
              "      border-color: transparent;\n",
              "      border-right-color: var(--fill-color);\n",
              "    }\n",
              "    80% {\n",
              "      border-color: transparent;\n",
              "      border-right-color: var(--fill-color);\n",
              "      border-bottom-color: var(--fill-color);\n",
              "    }\n",
              "    90% {\n",
              "      border-color: transparent;\n",
              "      border-bottom-color: var(--fill-color);\n",
              "    }\n",
              "  }\n",
              "</style>\n",
              "\n",
              "  <script>\n",
              "    async function quickchart(key) {\n",
              "      const quickchartButtonEl =\n",
              "        document.querySelector('#' + key + ' button');\n",
              "      quickchartButtonEl.disabled = true;  // To prevent multiple clicks.\n",
              "      quickchartButtonEl.classList.add('colab-df-spinner');\n",
              "      try {\n",
              "        const charts = await google.colab.kernel.invokeFunction(\n",
              "            'suggestCharts', [key], {});\n",
              "      } catch (error) {\n",
              "        console.error('Error during call to suggestCharts:', error);\n",
              "      }\n",
              "      quickchartButtonEl.classList.remove('colab-df-spinner');\n",
              "      quickchartButtonEl.classList.add('colab-df-quickchart-complete');\n",
              "    }\n",
              "    (() => {\n",
              "      let quickchartButtonEl =\n",
              "        document.querySelector('#df-64e4102d-b122-4e08-927d-ab3bf94bc3a7 button');\n",
              "      quickchartButtonEl.style.display =\n",
              "        google.colab.kernel.accessAllowed ? 'block' : 'none';\n",
              "    })();\n",
              "  </script>\n",
              "</div>\n",
              "\n",
              "    </div>\n",
              "  </div>\n"
            ],
            "application/vnd.google.colaboratory.intrinsic+json": {
              "type": "dataframe",
              "summary": "{\n  \"name\": \"display(test_df\",\n  \"rows\": 5,\n  \"fields\": [\n    {\n      \"column\": \"tagalog\",\n      \"properties\": {\n        \"dtype\": \"string\",\n        \"num_unique_values\": 5,\n        \"samples\": [\n          \"Saang bansa ipinanganak si Pangulong Roosevelt?\",\n          \"Ilarawan kung paano ang papel ng kasaysayan sa mundo ngayon.\",\n          \" Dahil sa pangalan ng kanta, hulaan ang genre ng kanta.\"\n        ],\n        \"semantic_type\": \"\",\n        \"description\": \"\"\n      }\n    },\n    {\n      \"column\": \"english\",\n      \"properties\": {\n        \"dtype\": \"string\",\n        \"num_unique_values\": 5,\n        \"samples\": [\n          \"In what country was President Roosevelt born?\",\n          \"Describe how the role of history in today's world.\",\n          \"Given a song name, predict the genre of the song.\"\n        ],\n        \"semantic_type\": \"\",\n        \"description\": \"\"\n      }\n    }\n  ]\n}"
            }
          },
          "metadata": {}
        },
        {
          "output_type": "stream",
          "name": "stdout",
          "text": [
            "\n",
            "Test Data\n"
          ]
        },
        {
          "output_type": "display_data",
          "data": {
            "text/plain": [
              "                                             tagalog  \\\n",
              "0   Sagutin ang tanong na ito sa anyo ng isang ku...   \n",
              "1   Nagpaplano ka ng panlabas na kaganapan para s...   \n",
              "2   Ilarawan ang sumusunod na tanawin gamit ang m...   \n",
              "3  Lumikha ng isang halimbawa para sa sumusunod n...   \n",
              "4                               Tama ba ang pahayag?   \n",
              "\n",
              "                                             english  \n",
              "0  Answer this question in the form of a complete...  \n",
              "1  You are planning an outdoor event for 20 peopl...  \n",
              "2        Describe the following landscape with words  \n",
              "3  Create an example for the following instructio...  \n",
              "4                          Is the statement correct?  "
            ],
            "text/html": [
              "\n",
              "  <div id=\"df-2385b827-6772-4983-9dfb-fe67eee36901\" class=\"colab-df-container\">\n",
              "    <div>\n",
              "<style scoped>\n",
              "    .dataframe tbody tr th:only-of-type {\n",
              "        vertical-align: middle;\n",
              "    }\n",
              "\n",
              "    .dataframe tbody tr th {\n",
              "        vertical-align: top;\n",
              "    }\n",
              "\n",
              "    .dataframe thead th {\n",
              "        text-align: right;\n",
              "    }\n",
              "</style>\n",
              "<table border=\"1\" class=\"dataframe\">\n",
              "  <thead>\n",
              "    <tr style=\"text-align: right;\">\n",
              "      <th></th>\n",
              "      <th>tagalog</th>\n",
              "      <th>english</th>\n",
              "    </tr>\n",
              "  </thead>\n",
              "  <tbody>\n",
              "    <tr>\n",
              "      <th>0</th>\n",
              "      <td>Sagutin ang tanong na ito sa anyo ng isang ku...</td>\n",
              "      <td>Answer this question in the form of a complete...</td>\n",
              "    </tr>\n",
              "    <tr>\n",
              "      <th>1</th>\n",
              "      <td>Nagpaplano ka ng panlabas na kaganapan para s...</td>\n",
              "      <td>You are planning an outdoor event for 20 peopl...</td>\n",
              "    </tr>\n",
              "    <tr>\n",
              "      <th>2</th>\n",
              "      <td>Ilarawan ang sumusunod na tanawin gamit ang m...</td>\n",
              "      <td>Describe the following landscape with words</td>\n",
              "    </tr>\n",
              "    <tr>\n",
              "      <th>3</th>\n",
              "      <td>Lumikha ng isang halimbawa para sa sumusunod n...</td>\n",
              "      <td>Create an example for the following instructio...</td>\n",
              "    </tr>\n",
              "    <tr>\n",
              "      <th>4</th>\n",
              "      <td>Tama ba ang pahayag?</td>\n",
              "      <td>Is the statement correct?</td>\n",
              "    </tr>\n",
              "  </tbody>\n",
              "</table>\n",
              "</div>\n",
              "    <div class=\"colab-df-buttons\">\n",
              "\n",
              "  <div class=\"colab-df-container\">\n",
              "    <button class=\"colab-df-convert\" onclick=\"convertToInteractive('df-2385b827-6772-4983-9dfb-fe67eee36901')\"\n",
              "            title=\"Convert this dataframe to an interactive table.\"\n",
              "            style=\"display:none;\">\n",
              "\n",
              "  <svg xmlns=\"http://www.w3.org/2000/svg\" height=\"24px\" viewBox=\"0 -960 960 960\">\n",
              "    <path d=\"M120-120v-720h720v720H120Zm60-500h600v-160H180v160Zm220 220h160v-160H400v160Zm0 220h160v-160H400v160ZM180-400h160v-160H180v160Zm440 0h160v-160H620v160ZM180-180h160v-160H180v160Zm440 0h160v-160H620v160Z\"/>\n",
              "  </svg>\n",
              "    </button>\n",
              "\n",
              "  <style>\n",
              "    .colab-df-container {\n",
              "      display:flex;\n",
              "      gap: 12px;\n",
              "    }\n",
              "\n",
              "    .colab-df-convert {\n",
              "      background-color: #E8F0FE;\n",
              "      border: none;\n",
              "      border-radius: 50%;\n",
              "      cursor: pointer;\n",
              "      display: none;\n",
              "      fill: #1967D2;\n",
              "      height: 32px;\n",
              "      padding: 0 0 0 0;\n",
              "      width: 32px;\n",
              "    }\n",
              "\n",
              "    .colab-df-convert:hover {\n",
              "      background-color: #E2EBFA;\n",
              "      box-shadow: 0px 1px 2px rgba(60, 64, 67, 0.3), 0px 1px 3px 1px rgba(60, 64, 67, 0.15);\n",
              "      fill: #174EA6;\n",
              "    }\n",
              "\n",
              "    .colab-df-buttons div {\n",
              "      margin-bottom: 4px;\n",
              "    }\n",
              "\n",
              "    [theme=dark] .colab-df-convert {\n",
              "      background-color: #3B4455;\n",
              "      fill: #D2E3FC;\n",
              "    }\n",
              "\n",
              "    [theme=dark] .colab-df-convert:hover {\n",
              "      background-color: #434B5C;\n",
              "      box-shadow: 0px 1px 3px 1px rgba(0, 0, 0, 0.15);\n",
              "      filter: drop-shadow(0px 1px 2px rgba(0, 0, 0, 0.3));\n",
              "      fill: #FFFFFF;\n",
              "    }\n",
              "  </style>\n",
              "\n",
              "    <script>\n",
              "      const buttonEl =\n",
              "        document.querySelector('#df-2385b827-6772-4983-9dfb-fe67eee36901 button.colab-df-convert');\n",
              "      buttonEl.style.display =\n",
              "        google.colab.kernel.accessAllowed ? 'block' : 'none';\n",
              "\n",
              "      async function convertToInteractive(key) {\n",
              "        const element = document.querySelector('#df-2385b827-6772-4983-9dfb-fe67eee36901');\n",
              "        const dataTable =\n",
              "          await google.colab.kernel.invokeFunction('convertToInteractive',\n",
              "                                                    [key], {});\n",
              "        if (!dataTable) return;\n",
              "\n",
              "        const docLinkHtml = 'Like what you see? Visit the ' +\n",
              "          '<a target=\"_blank\" href=https://colab.research.google.com/notebooks/data_table.ipynb>data table notebook</a>'\n",
              "          + ' to learn more about interactive tables.';\n",
              "        element.innerHTML = '';\n",
              "        dataTable['output_type'] = 'display_data';\n",
              "        await google.colab.output.renderOutput(dataTable, element);\n",
              "        const docLink = document.createElement('div');\n",
              "        docLink.innerHTML = docLinkHtml;\n",
              "        element.appendChild(docLink);\n",
              "      }\n",
              "    </script>\n",
              "  </div>\n",
              "\n",
              "\n",
              "<div id=\"df-a13f2e41-f161-4a58-9927-965e9828bf8f\">\n",
              "  <button class=\"colab-df-quickchart\" onclick=\"quickchart('df-a13f2e41-f161-4a58-9927-965e9828bf8f')\"\n",
              "            title=\"Suggest charts\"\n",
              "            style=\"display:none;\">\n",
              "\n",
              "<svg xmlns=\"http://www.w3.org/2000/svg\" height=\"24px\"viewBox=\"0 0 24 24\"\n",
              "     width=\"24px\">\n",
              "    <g>\n",
              "        <path d=\"M19 3H5c-1.1 0-2 .9-2 2v14c0 1.1.9 2 2 2h14c1.1 0 2-.9 2-2V5c0-1.1-.9-2-2-2zM9 17H7v-7h2v7zm4 0h-2V7h2v10zm4 0h-2v-4h2v4z\"/>\n",
              "    </g>\n",
              "</svg>\n",
              "  </button>\n",
              "\n",
              "<style>\n",
              "  .colab-df-quickchart {\n",
              "      --bg-color: #E8F0FE;\n",
              "      --fill-color: #1967D2;\n",
              "      --hover-bg-color: #E2EBFA;\n",
              "      --hover-fill-color: #174EA6;\n",
              "      --disabled-fill-color: #AAA;\n",
              "      --disabled-bg-color: #DDD;\n",
              "  }\n",
              "\n",
              "  [theme=dark] .colab-df-quickchart {\n",
              "      --bg-color: #3B4455;\n",
              "      --fill-color: #D2E3FC;\n",
              "      --hover-bg-color: #434B5C;\n",
              "      --hover-fill-color: #FFFFFF;\n",
              "      --disabled-bg-color: #3B4455;\n",
              "      --disabled-fill-color: #666;\n",
              "  }\n",
              "\n",
              "  .colab-df-quickchart {\n",
              "    background-color: var(--bg-color);\n",
              "    border: none;\n",
              "    border-radius: 50%;\n",
              "    cursor: pointer;\n",
              "    display: none;\n",
              "    fill: var(--fill-color);\n",
              "    height: 32px;\n",
              "    padding: 0;\n",
              "    width: 32px;\n",
              "  }\n",
              "\n",
              "  .colab-df-quickchart:hover {\n",
              "    background-color: var(--hover-bg-color);\n",
              "    box-shadow: 0 1px 2px rgba(60, 64, 67, 0.3), 0 1px 3px 1px rgba(60, 64, 67, 0.15);\n",
              "    fill: var(--button-hover-fill-color);\n",
              "  }\n",
              "\n",
              "  .colab-df-quickchart-complete:disabled,\n",
              "  .colab-df-quickchart-complete:disabled:hover {\n",
              "    background-color: var(--disabled-bg-color);\n",
              "    fill: var(--disabled-fill-color);\n",
              "    box-shadow: none;\n",
              "  }\n",
              "\n",
              "  .colab-df-spinner {\n",
              "    border: 2px solid var(--fill-color);\n",
              "    border-color: transparent;\n",
              "    border-bottom-color: var(--fill-color);\n",
              "    animation:\n",
              "      spin 1s steps(1) infinite;\n",
              "  }\n",
              "\n",
              "  @keyframes spin {\n",
              "    0% {\n",
              "      border-color: transparent;\n",
              "      border-bottom-color: var(--fill-color);\n",
              "      border-left-color: var(--fill-color);\n",
              "    }\n",
              "    20% {\n",
              "      border-color: transparent;\n",
              "      border-left-color: var(--fill-color);\n",
              "      border-top-color: var(--fill-color);\n",
              "    }\n",
              "    30% {\n",
              "      border-color: transparent;\n",
              "      border-left-color: var(--fill-color);\n",
              "      border-top-color: var(--fill-color);\n",
              "      border-right-color: var(--fill-color);\n",
              "    }\n",
              "    40% {\n",
              "      border-color: transparent;\n",
              "      border-right-color: var(--fill-color);\n",
              "      border-top-color: var(--fill-color);\n",
              "    }\n",
              "    60% {\n",
              "      border-color: transparent;\n",
              "      border-right-color: var(--fill-color);\n",
              "    }\n",
              "    80% {\n",
              "      border-color: transparent;\n",
              "      border-right-color: var(--fill-color);\n",
              "      border-bottom-color: var(--fill-color);\n",
              "    }\n",
              "    90% {\n",
              "      border-color: transparent;\n",
              "      border-bottom-color: var(--fill-color);\n",
              "    }\n",
              "  }\n",
              "</style>\n",
              "\n",
              "  <script>\n",
              "    async function quickchart(key) {\n",
              "      const quickchartButtonEl =\n",
              "        document.querySelector('#' + key + ' button');\n",
              "      quickchartButtonEl.disabled = true;  // To prevent multiple clicks.\n",
              "      quickchartButtonEl.classList.add('colab-df-spinner');\n",
              "      try {\n",
              "        const charts = await google.colab.kernel.invokeFunction(\n",
              "            'suggestCharts', [key], {});\n",
              "      } catch (error) {\n",
              "        console.error('Error during call to suggestCharts:', error);\n",
              "      }\n",
              "      quickchartButtonEl.classList.remove('colab-df-spinner');\n",
              "      quickchartButtonEl.classList.add('colab-df-quickchart-complete');\n",
              "    }\n",
              "    (() => {\n",
              "      let quickchartButtonEl =\n",
              "        document.querySelector('#df-a13f2e41-f161-4a58-9927-965e9828bf8f button');\n",
              "      quickchartButtonEl.style.display =\n",
              "        google.colab.kernel.accessAllowed ? 'block' : 'none';\n",
              "    })();\n",
              "  </script>\n",
              "</div>\n",
              "\n",
              "    </div>\n",
              "  </div>\n"
            ],
            "application/vnd.google.colaboratory.intrinsic+json": {
              "type": "dataframe",
              "summary": "{\n  \"name\": \"display(test_df\",\n  \"rows\": 5,\n  \"fields\": [\n    {\n      \"column\": \"tagalog\",\n      \"properties\": {\n        \"dtype\": \"string\",\n        \"num_unique_values\": 5,\n        \"samples\": [\n          \" Nagpaplano ka ng panlabas na kaganapan para sa 20 tao. Bumuo ng 3 posibleng venue\",\n          \" Tama ba ang pahayag?\",\n          \" Ilarawan ang sumusunod na tanawin gamit ang mga salita\"\n        ],\n        \"semantic_type\": \"\",\n        \"description\": \"\"\n      }\n    },\n    {\n      \"column\": \"english\",\n      \"properties\": {\n        \"dtype\": \"string\",\n        \"num_unique_values\": 5,\n        \"samples\": [\n          \"You are planning an outdoor event for 20 people. Come up with 3 possible venues\",\n          \"Is the statement correct?\",\n          \"Describe the following landscape with words\"\n        ],\n        \"semantic_type\": \"\",\n        \"description\": \"\"\n      }\n    }\n  ]\n}"
            }
          },
          "metadata": {}
        }
      ]
    },
    {
      "cell_type": "code",
      "source": [
        "print(\"Train Shape: \", train_df.shape)\n",
        "print(\"Test Shape: \", test_df.shape)"
      ],
      "metadata": {
        "colab": {
          "base_uri": "https://localhost:8080/"
        },
        "id": "YtnqfwZ5Oi33",
        "outputId": "7dd4e150-b783-49b4-a31b-57950517caee"
      },
      "execution_count": 7,
      "outputs": [
        {
          "output_type": "stream",
          "name": "stdout",
          "text": [
            "Train Shape:  (84177, 2)\n",
            "Test Shape:  (21057, 2)\n"
          ]
        }
      ]
    },
    {
      "cell_type": "markdown",
      "source": [
        "Since this is a RAG application, we don't need the traditional train-test split. Combine the two set."
      ],
      "metadata": {
        "id": "XzwBwXraVL_2"
      }
    },
    {
      "cell_type": "code",
      "source": [
        "df = pd.concat([train_df, test_df])\n",
        "df.shape"
      ],
      "metadata": {
        "colab": {
          "base_uri": "https://localhost:8080/"
        },
        "id": "MbqGuajuQxMP",
        "outputId": "4595ad7c-4749-429c-dc57-2e4521fa7b70"
      },
      "execution_count": 8,
      "outputs": [
        {
          "output_type": "execute_result",
          "data": {
            "text/plain": [
              "(105234, 2)"
            ]
          },
          "metadata": {},
          "execution_count": 8
        }
      ]
    },
    {
      "cell_type": "code",
      "source": [
        "df['text'] = df['tagalog'] + \" | \" + df['english']  # Combine for better context\n",
        "df.head()"
      ],
      "metadata": {
        "colab": {
          "base_uri": "https://localhost:8080/",
          "height": 206
        },
        "id": "bTZAaD9MlTOy",
        "outputId": "cc4a258b-0220-4020-edfa-ffca0179472e"
      },
      "execution_count": 9,
      "outputs": [
        {
          "output_type": "execute_result",
          "data": {
            "text/plain": [
              "                                             tagalog  \\\n",
              "0   Ilarawan kung ano ang makikita mo kung pupunt...   \n",
              "1    Saang bansa ipinanganak si Pangulong Roosevelt?   \n",
              "2   Dahil sa pangalan ng kanta, hulaan ang genre ...   \n",
              "3  Maghanap ng limang pang-uri na naglalarawan sa...   \n",
              "4  Ilarawan kung paano ang papel ng kasaysayan sa...   \n",
              "\n",
              "                                             english  \\\n",
              "0  Describe what you would see if you went to the...   \n",
              "1      In what country was President Roosevelt born?   \n",
              "2  Given a song name, predict the genre of the song.   \n",
              "3     Find five adjectives that describe a windy day   \n",
              "4  Describe how the role of history in today's wo...   \n",
              "\n",
              "                                                text  \n",
              "0   Ilarawan kung ano ang makikita mo kung pupunt...  \n",
              "1  Saang bansa ipinanganak si Pangulong Roosevelt...  \n",
              "2   Dahil sa pangalan ng kanta, hulaan ang genre ...  \n",
              "3  Maghanap ng limang pang-uri na naglalarawan sa...  \n",
              "4  Ilarawan kung paano ang papel ng kasaysayan sa...  "
            ],
            "text/html": [
              "\n",
              "  <div id=\"df-fbc10a95-5b2c-49e2-aab6-1ac889c3c838\" class=\"colab-df-container\">\n",
              "    <div>\n",
              "<style scoped>\n",
              "    .dataframe tbody tr th:only-of-type {\n",
              "        vertical-align: middle;\n",
              "    }\n",
              "\n",
              "    .dataframe tbody tr th {\n",
              "        vertical-align: top;\n",
              "    }\n",
              "\n",
              "    .dataframe thead th {\n",
              "        text-align: right;\n",
              "    }\n",
              "</style>\n",
              "<table border=\"1\" class=\"dataframe\">\n",
              "  <thead>\n",
              "    <tr style=\"text-align: right;\">\n",
              "      <th></th>\n",
              "      <th>tagalog</th>\n",
              "      <th>english</th>\n",
              "      <th>text</th>\n",
              "    </tr>\n",
              "  </thead>\n",
              "  <tbody>\n",
              "    <tr>\n",
              "      <th>0</th>\n",
              "      <td>Ilarawan kung ano ang makikita mo kung pupunt...</td>\n",
              "      <td>Describe what you would see if you went to the...</td>\n",
              "      <td>Ilarawan kung ano ang makikita mo kung pupunt...</td>\n",
              "    </tr>\n",
              "    <tr>\n",
              "      <th>1</th>\n",
              "      <td>Saang bansa ipinanganak si Pangulong Roosevelt?</td>\n",
              "      <td>In what country was President Roosevelt born?</td>\n",
              "      <td>Saang bansa ipinanganak si Pangulong Roosevelt...</td>\n",
              "    </tr>\n",
              "    <tr>\n",
              "      <th>2</th>\n",
              "      <td>Dahil sa pangalan ng kanta, hulaan ang genre ...</td>\n",
              "      <td>Given a song name, predict the genre of the song.</td>\n",
              "      <td>Dahil sa pangalan ng kanta, hulaan ang genre ...</td>\n",
              "    </tr>\n",
              "    <tr>\n",
              "      <th>3</th>\n",
              "      <td>Maghanap ng limang pang-uri na naglalarawan sa...</td>\n",
              "      <td>Find five adjectives that describe a windy day</td>\n",
              "      <td>Maghanap ng limang pang-uri na naglalarawan sa...</td>\n",
              "    </tr>\n",
              "    <tr>\n",
              "      <th>4</th>\n",
              "      <td>Ilarawan kung paano ang papel ng kasaysayan sa...</td>\n",
              "      <td>Describe how the role of history in today's wo...</td>\n",
              "      <td>Ilarawan kung paano ang papel ng kasaysayan sa...</td>\n",
              "    </tr>\n",
              "  </tbody>\n",
              "</table>\n",
              "</div>\n",
              "    <div class=\"colab-df-buttons\">\n",
              "\n",
              "  <div class=\"colab-df-container\">\n",
              "    <button class=\"colab-df-convert\" onclick=\"convertToInteractive('df-fbc10a95-5b2c-49e2-aab6-1ac889c3c838')\"\n",
              "            title=\"Convert this dataframe to an interactive table.\"\n",
              "            style=\"display:none;\">\n",
              "\n",
              "  <svg xmlns=\"http://www.w3.org/2000/svg\" height=\"24px\" viewBox=\"0 -960 960 960\">\n",
              "    <path d=\"M120-120v-720h720v720H120Zm60-500h600v-160H180v160Zm220 220h160v-160H400v160Zm0 220h160v-160H400v160ZM180-400h160v-160H180v160Zm440 0h160v-160H620v160ZM180-180h160v-160H180v160Zm440 0h160v-160H620v160Z\"/>\n",
              "  </svg>\n",
              "    </button>\n",
              "\n",
              "  <style>\n",
              "    .colab-df-container {\n",
              "      display:flex;\n",
              "      gap: 12px;\n",
              "    }\n",
              "\n",
              "    .colab-df-convert {\n",
              "      background-color: #E8F0FE;\n",
              "      border: none;\n",
              "      border-radius: 50%;\n",
              "      cursor: pointer;\n",
              "      display: none;\n",
              "      fill: #1967D2;\n",
              "      height: 32px;\n",
              "      padding: 0 0 0 0;\n",
              "      width: 32px;\n",
              "    }\n",
              "\n",
              "    .colab-df-convert:hover {\n",
              "      background-color: #E2EBFA;\n",
              "      box-shadow: 0px 1px 2px rgba(60, 64, 67, 0.3), 0px 1px 3px 1px rgba(60, 64, 67, 0.15);\n",
              "      fill: #174EA6;\n",
              "    }\n",
              "\n",
              "    .colab-df-buttons div {\n",
              "      margin-bottom: 4px;\n",
              "    }\n",
              "\n",
              "    [theme=dark] .colab-df-convert {\n",
              "      background-color: #3B4455;\n",
              "      fill: #D2E3FC;\n",
              "    }\n",
              "\n",
              "    [theme=dark] .colab-df-convert:hover {\n",
              "      background-color: #434B5C;\n",
              "      box-shadow: 0px 1px 3px 1px rgba(0, 0, 0, 0.15);\n",
              "      filter: drop-shadow(0px 1px 2px rgba(0, 0, 0, 0.3));\n",
              "      fill: #FFFFFF;\n",
              "    }\n",
              "  </style>\n",
              "\n",
              "    <script>\n",
              "      const buttonEl =\n",
              "        document.querySelector('#df-fbc10a95-5b2c-49e2-aab6-1ac889c3c838 button.colab-df-convert');\n",
              "      buttonEl.style.display =\n",
              "        google.colab.kernel.accessAllowed ? 'block' : 'none';\n",
              "\n",
              "      async function convertToInteractive(key) {\n",
              "        const element = document.querySelector('#df-fbc10a95-5b2c-49e2-aab6-1ac889c3c838');\n",
              "        const dataTable =\n",
              "          await google.colab.kernel.invokeFunction('convertToInteractive',\n",
              "                                                    [key], {});\n",
              "        if (!dataTable) return;\n",
              "\n",
              "        const docLinkHtml = 'Like what you see? Visit the ' +\n",
              "          '<a target=\"_blank\" href=https://colab.research.google.com/notebooks/data_table.ipynb>data table notebook</a>'\n",
              "          + ' to learn more about interactive tables.';\n",
              "        element.innerHTML = '';\n",
              "        dataTable['output_type'] = 'display_data';\n",
              "        await google.colab.output.renderOutput(dataTable, element);\n",
              "        const docLink = document.createElement('div');\n",
              "        docLink.innerHTML = docLinkHtml;\n",
              "        element.appendChild(docLink);\n",
              "      }\n",
              "    </script>\n",
              "  </div>\n",
              "\n",
              "\n",
              "<div id=\"df-8312cbd3-a39d-4dd0-99a1-78a9469e93c8\">\n",
              "  <button class=\"colab-df-quickchart\" onclick=\"quickchart('df-8312cbd3-a39d-4dd0-99a1-78a9469e93c8')\"\n",
              "            title=\"Suggest charts\"\n",
              "            style=\"display:none;\">\n",
              "\n",
              "<svg xmlns=\"http://www.w3.org/2000/svg\" height=\"24px\"viewBox=\"0 0 24 24\"\n",
              "     width=\"24px\">\n",
              "    <g>\n",
              "        <path d=\"M19 3H5c-1.1 0-2 .9-2 2v14c0 1.1.9 2 2 2h14c1.1 0 2-.9 2-2V5c0-1.1-.9-2-2-2zM9 17H7v-7h2v7zm4 0h-2V7h2v10zm4 0h-2v-4h2v4z\"/>\n",
              "    </g>\n",
              "</svg>\n",
              "  </button>\n",
              "\n",
              "<style>\n",
              "  .colab-df-quickchart {\n",
              "      --bg-color: #E8F0FE;\n",
              "      --fill-color: #1967D2;\n",
              "      --hover-bg-color: #E2EBFA;\n",
              "      --hover-fill-color: #174EA6;\n",
              "      --disabled-fill-color: #AAA;\n",
              "      --disabled-bg-color: #DDD;\n",
              "  }\n",
              "\n",
              "  [theme=dark] .colab-df-quickchart {\n",
              "      --bg-color: #3B4455;\n",
              "      --fill-color: #D2E3FC;\n",
              "      --hover-bg-color: #434B5C;\n",
              "      --hover-fill-color: #FFFFFF;\n",
              "      --disabled-bg-color: #3B4455;\n",
              "      --disabled-fill-color: #666;\n",
              "  }\n",
              "\n",
              "  .colab-df-quickchart {\n",
              "    background-color: var(--bg-color);\n",
              "    border: none;\n",
              "    border-radius: 50%;\n",
              "    cursor: pointer;\n",
              "    display: none;\n",
              "    fill: var(--fill-color);\n",
              "    height: 32px;\n",
              "    padding: 0;\n",
              "    width: 32px;\n",
              "  }\n",
              "\n",
              "  .colab-df-quickchart:hover {\n",
              "    background-color: var(--hover-bg-color);\n",
              "    box-shadow: 0 1px 2px rgba(60, 64, 67, 0.3), 0 1px 3px 1px rgba(60, 64, 67, 0.15);\n",
              "    fill: var(--button-hover-fill-color);\n",
              "  }\n",
              "\n",
              "  .colab-df-quickchart-complete:disabled,\n",
              "  .colab-df-quickchart-complete:disabled:hover {\n",
              "    background-color: var(--disabled-bg-color);\n",
              "    fill: var(--disabled-fill-color);\n",
              "    box-shadow: none;\n",
              "  }\n",
              "\n",
              "  .colab-df-spinner {\n",
              "    border: 2px solid var(--fill-color);\n",
              "    border-color: transparent;\n",
              "    border-bottom-color: var(--fill-color);\n",
              "    animation:\n",
              "      spin 1s steps(1) infinite;\n",
              "  }\n",
              "\n",
              "  @keyframes spin {\n",
              "    0% {\n",
              "      border-color: transparent;\n",
              "      border-bottom-color: var(--fill-color);\n",
              "      border-left-color: var(--fill-color);\n",
              "    }\n",
              "    20% {\n",
              "      border-color: transparent;\n",
              "      border-left-color: var(--fill-color);\n",
              "      border-top-color: var(--fill-color);\n",
              "    }\n",
              "    30% {\n",
              "      border-color: transparent;\n",
              "      border-left-color: var(--fill-color);\n",
              "      border-top-color: var(--fill-color);\n",
              "      border-right-color: var(--fill-color);\n",
              "    }\n",
              "    40% {\n",
              "      border-color: transparent;\n",
              "      border-right-color: var(--fill-color);\n",
              "      border-top-color: var(--fill-color);\n",
              "    }\n",
              "    60% {\n",
              "      border-color: transparent;\n",
              "      border-right-color: var(--fill-color);\n",
              "    }\n",
              "    80% {\n",
              "      border-color: transparent;\n",
              "      border-right-color: var(--fill-color);\n",
              "      border-bottom-color: var(--fill-color);\n",
              "    }\n",
              "    90% {\n",
              "      border-color: transparent;\n",
              "      border-bottom-color: var(--fill-color);\n",
              "    }\n",
              "  }\n",
              "</style>\n",
              "\n",
              "  <script>\n",
              "    async function quickchart(key) {\n",
              "      const quickchartButtonEl =\n",
              "        document.querySelector('#' + key + ' button');\n",
              "      quickchartButtonEl.disabled = true;  // To prevent multiple clicks.\n",
              "      quickchartButtonEl.classList.add('colab-df-spinner');\n",
              "      try {\n",
              "        const charts = await google.colab.kernel.invokeFunction(\n",
              "            'suggestCharts', [key], {});\n",
              "      } catch (error) {\n",
              "        console.error('Error during call to suggestCharts:', error);\n",
              "      }\n",
              "      quickchartButtonEl.classList.remove('colab-df-spinner');\n",
              "      quickchartButtonEl.classList.add('colab-df-quickchart-complete');\n",
              "    }\n",
              "    (() => {\n",
              "      let quickchartButtonEl =\n",
              "        document.querySelector('#df-8312cbd3-a39d-4dd0-99a1-78a9469e93c8 button');\n",
              "      quickchartButtonEl.style.display =\n",
              "        google.colab.kernel.accessAllowed ? 'block' : 'none';\n",
              "    })();\n",
              "  </script>\n",
              "</div>\n",
              "\n",
              "    </div>\n",
              "  </div>\n"
            ],
            "application/vnd.google.colaboratory.intrinsic+json": {
              "type": "dataframe",
              "variable_name": "df"
            }
          },
          "metadata": {},
          "execution_count": 9
        }
      ]
    },
    {
      "cell_type": "markdown",
      "source": [
        "Due to the limitation of the free tier access on Google API, we'll limit the text that will be embedded to 1,000 samples. For more complete RAG, feel free to change it to all samples, though do note that it might take a while to embed everything."
      ],
      "metadata": {
        "id": "d0TZ3Cqqquqg"
      }
    },
    {
      "cell_type": "code",
      "source": [
        "sampled_df = df.sample(1000)\n",
        "sampled_df.shape"
      ],
      "metadata": {
        "colab": {
          "base_uri": "https://localhost:8080/"
        },
        "id": "lXnoMbFkq572",
        "outputId": "7496c222-2952-420b-dca9-79dcf08023ee"
      },
      "execution_count": 10,
      "outputs": [
        {
          "output_type": "execute_result",
          "data": {
            "text/plain": [
              "(1000, 3)"
            ]
          },
          "metadata": {},
          "execution_count": 10
        }
      ]
    },
    {
      "cell_type": "markdown",
      "source": [
        "## Convert the Data into Vector DB"
      ],
      "metadata": {
        "id": "VZ-dyGTjVfgb"
      }
    },
    {
      "cell_type": "markdown",
      "source": [
        "Setting up the embedding model from Google"
      ],
      "metadata": {
        "id": "voD7yd6no1-q"
      }
    },
    {
      "cell_type": "code",
      "source": [
        "embedding_model = GoogleGenerativeAIEmbeddings(model=\"models/text-embedding-004\", google_api_key=gemini_api_key)\n",
        "embedding_model.embed_documents([\"Test sentence\"])[0][:10]"
      ],
      "metadata": {
        "colab": {
          "base_uri": "https://localhost:8080/"
        },
        "id": "mxD1QViAVc-o",
        "outputId": "3707d97e-7800-499f-ea21-85eb6814f069"
      },
      "execution_count": 11,
      "outputs": [
        {
          "output_type": "execute_result",
          "data": {
            "text/plain": [
              "[0.003654418746009469,\n",
              " 0.023224622011184692,\n",
              " -0.04045099392533302,\n",
              " -0.0016853747656568885,\n",
              " 0.022930212318897247,\n",
              " 0.019582204520702362,\n",
              " 0.004798450972884893,\n",
              " 0.02245980314910412,\n",
              " -0.030850065872073174,\n",
              " -0.00028032358386553824]"
            ]
          },
          "metadata": {},
          "execution_count": 11
        }
      ]
    },
    {
      "cell_type": "markdown",
      "source": [
        "Creating a Vector DB for the `text` column containing the translation data. Note that due to the quota limit of a free google API key, we'll have to batch the embedding process."
      ],
      "metadata": {
        "id": "xP6sgM8bo_FW"
      }
    },
    {
      "cell_type": "code",
      "source": [
        "# Define a function to batch the texts\n",
        "def batch_iterable(iterable, batch_size):\n",
        "    \"\"\"Yield batches of the specified size from the iterable.\"\"\"\n",
        "    it = iter(iterable)\n",
        "    for batch in iter(lambda: list(islice(it, batch_size)), []):\n",
        "        yield batch"
      ],
      "metadata": {
        "id": "5TF5YwWsvpOI"
      },
      "execution_count": 12,
      "outputs": []
    },
    {
      "cell_type": "code",
      "source": [
        "batch_size = 100  # Batch size to ensure you don't exceed the quota\n",
        "texts = sampled_df['text'].tolist()"
      ],
      "metadata": {
        "id": "qN_aC4krvtqz"
      },
      "execution_count": 13,
      "outputs": []
    },
    {
      "cell_type": "code",
      "source": [
        "# Get the dimensionality of the embeddings by encoding a single text\n",
        "sample_embedding = embedding_model.embed_documents([texts[0]])  # Encode one text\n",
        "embedding_dim = len(sample_embedding[0])  # Dimensionality of the embedding"
      ],
      "metadata": {
        "id": "bclJLP_5xR68"
      },
      "execution_count": 14,
      "outputs": []
    },
    {
      "cell_type": "code",
      "source": [
        "# Initialize FAISS index and other components\n",
        "index = IndexFlatL2(embedding_dim)  # Create a FAISS index with the appropriate dimension\n",
        "docstore = InMemoryDocstore()  # Placeholder for storing document metadata\n",
        "index_to_docstore_id = {}  # Mapping from index to document ID"
      ],
      "metadata": {
        "id": "yqQeYBtOnts2"
      },
      "execution_count": 15,
      "outputs": []
    },
    {
      "cell_type": "code",
      "source": [
        "# Initialize FAISS vector database with correct parameters\n",
        "vector_db = FAISS(\n",
        "    embedding_function=embedding_model,\n",
        "    index=index,\n",
        "    docstore=docstore,\n",
        "    index_to_docstore_id=index_to_docstore_id\n",
        ")"
      ],
      "metadata": {
        "id": "8M9Pg7dMykis"
      },
      "execution_count": 16,
      "outputs": []
    },
    {
      "cell_type": "code",
      "source": [
        "# Process texts in batches and add to FAISS\n",
        "for batch in tqdm(batch_iterable(texts, batch_size)):\n",
        "    # Convert batch texts to LangChain Documents\n",
        "    documents = [Document(page_content=text) for text in batch]\n",
        "\n",
        "    # Generate unique document IDs using uuid4\n",
        "    uuids = [str(uuid4()) for _ in documents]\n",
        "\n",
        "    # Add batch to vector store\n",
        "    vector_db.add_documents(documents=documents, ids=uuids)\n",
        "\n",
        "    time.sleep(60)  # Avoid exceeding API rate limits"
      ],
      "metadata": {
        "colab": {
          "base_uri": "https://localhost:8080/"
        },
        "id": "hu4qL50rpPIm",
        "outputId": "70acd5ff-0083-4142-8c1c-fa08aace581f"
      },
      "execution_count": 17,
      "outputs": [
        {
          "output_type": "stream",
          "name": "stderr",
          "text": [
            "10it [10:10, 61.02s/it]\n"
          ]
        }
      ]
    },
    {
      "cell_type": "code",
      "source": [
        "# Perform similarity search\n",
        "query = \"Aso\"\n",
        "results = vector_db.similarity_search(query, k=3)\n",
        "\n",
        "# Print the retrieved documents\n",
        "for res in results:\n",
        "    print(res.page_content)"
      ],
      "metadata": {
        "colab": {
          "base_uri": "https://localhost:8080/"
        },
        "id": "TuNRxuuo7Mmy",
        "outputId": "074669d7-a15a-44d0-b7c8-a25b5969fc0f"
      },
      "execution_count": 18,
      "outputs": [
        {
          "output_type": "stream",
          "name": "stdout",
          "text": [
            "Ang cute ng aso.   | The dog is so cute.\n",
            " Uriin ang artikulong ito bilang alinman sa piraso ng opinyon, buwanang ulat, pagsusuri sa ekonomiya. | Classify this article as either  opinion piece, monthly report, economic analysis.\n",
            "Ang artikulo ng balitang ito ay ikinategorya bilang Negosyo.   | This news article is categorized as Business.\n"
          ]
        }
      ]
    },
    {
      "cell_type": "markdown",
      "source": [
        "## Building the Chatbot"
      ],
      "metadata": {
        "id": "CPvnJh85ZsMR"
      }
    },
    {
      "cell_type": "code",
      "source": [
        "# Define RAG Query Pipeline using Gemini for Translation\n",
        "def rag_translate(query):\n",
        "    \"\"\"Retrieve relevant translations & use Gemini to generate refined translation.\"\"\"\n",
        "    retrieved_docs = vector_db.similarity_search(query, k=3)\n",
        "    context = \"\\n\".join([doc.page_content for doc in retrieved_docs])\n",
        "\n",
        "    prompt = f\"\"\"\n",
        "    Translate the following Tagalog sentence to English while preserving its meaning and context.\n",
        "\n",
        "    Query: {query}\n",
        "\n",
        "    Context:\n",
        "    {context}\n",
        "\n",
        "    Constraints:\n",
        "    - Only output the translated text.\n",
        "    - If the input contains offensive, harmful, or inappropriate content, respond with: \"Translation not allowed due to content restrictions.\"\n",
        "    \"\"\"\n",
        "    print(len(prompt))\n",
        "    response = client.models.generate_content(model='gemini-pro', contents=prompt)\n",
        "    return response.text"
      ],
      "metadata": {
        "id": "WICcmNxrZcfs"
      },
      "execution_count": 33,
      "outputs": []
    },
    {
      "cell_type": "code",
      "source": [
        "# 🔹 Step 5: Test the Chatbot\n",
        "query = \"Ano ang papel ng kasaysayan sa mundo ngayon?\"\n",
        "translated_text = rag_translate(query)\n",
        "Markdown(translated_text)"
      ],
      "metadata": {
        "colab": {
          "base_uri": "https://localhost:8080/",
          "height": 64
        },
        "id": "aPmzUyXUZ8LW",
        "outputId": "b95bf8be-5904-4086-c0b6-fce66246437e"
      },
      "execution_count": 34,
      "outputs": [
        {
          "output_type": "stream",
          "name": "stdout",
          "text": [
            "3851\n"
          ]
        },
        {
          "output_type": "execute_result",
          "data": {
            "text/plain": [
              "<IPython.core.display.Markdown object>"
            ],
            "text/markdown": "What is the role of history in today's world?"
          },
          "metadata": {},
          "execution_count": 34
        }
      ]
    },
    {
      "cell_type": "code",
      "source": [],
      "metadata": {
        "id": "pva1ymqhKN8z"
      },
      "execution_count": null,
      "outputs": []
    }
  ],
  "metadata": {
    "language_info": {
      "name": "python"
    },
    "colab": {
      "provenance": [],
      "toc_visible": true
    },
    "kernelspec": {
      "name": "python3",
      "display_name": "Python 3"
    }
  },
  "nbformat": 4,
  "nbformat_minor": 0
}