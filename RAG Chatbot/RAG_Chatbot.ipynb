{
  "cells": [
    {
      "cell_type": "markdown",
      "metadata": {
        "id": "view-in-github",
        "colab_type": "text"
      },
      "source": [
        "<a href=\"https://colab.research.google.com/github/jbramos9/personal_projects/blob/main/RAG%20Chatbot/RAG_Chatbot.ipynb\" target=\"_parent\"><img src=\"https://colab.research.google.com/assets/colab-badge.svg\" alt=\"Open In Colab\"/></a>"
      ]
    },
    {
      "cell_type": "markdown",
      "metadata": {
        "id": "B4fkqZNydytE"
      },
      "source": [
        "# RAG Chatbot using Gemini"
      ]
    },
    {
      "cell_type": "markdown",
      "source": [
        "In this notebook, we implement a **Retrieval-Augmented Generation (RAG)** pipeline using a **vector database** built from a file as the knowledge source. information.\n",
        "<br>\n",
        "<br>\n",
        "We will:\n",
        "\n",
        "- Process and embed text data from the file.\n",
        "- Store and index embeddings in a vector database for efficient retrieval.\n",
        "- Retrieve relevant context based on user queries.\n",
        "- Use Gemini API to generate responses enriched with retrieved knowledge.\n",
        "<br>\n",
        "<br>\n",
        "\n",
        "This approach enables context-aware, accurate, and knowledge-grounded responses, making the model more effective for domain-specific tasks.\n",
        "\n",
        "\n"
      ],
      "metadata": {
        "id": "CpT44oWvfFhu"
      }
    },
    {
      "cell_type": "markdown",
      "source": [
        "## Libraries"
      ],
      "metadata": {
        "id": "Gw7oXE4wd-EL"
      }
    },
    {
      "cell_type": "code",
      "source": [
        "# Installing the gen ai package for calling Gemini\n",
        "!pip install -q -U google-genai langchain langchain-google-genai faiss-cpu langchain-community"
      ],
      "metadata": {
        "id": "lXR8H6OfeFGn"
      },
      "execution_count": null,
      "outputs": []
    },
    {
      "cell_type": "code",
      "execution_count": 2,
      "metadata": {
        "vscode": {
          "languageId": "plaintext"
        },
        "id": "1vs2AnYydytF"
      },
      "outputs": [],
      "source": [
        "from google import genai\n",
        "from google.colab import userdata\n",
        "from IPython.display import Markdown\n",
        "import pandas as pd\n",
        "import numpy as np\n",
        "import time\n",
        "from itertools import islice\n",
        "from tqdm import tqdm\n",
        "\n",
        "from langchain_google_genai import GoogleGenerativeAIEmbeddings, ChatGoogleGenerativeAI\n",
        "from langchain.vectorstores import FAISS\n",
        "from faiss import IndexFlatL2\n",
        "from langchain_community.docstore.in_memory import InMemoryDocstore\n",
        "from langchain.schema import Document\n",
        "from uuid import uuid4"
      ]
    },
    {
      "cell_type": "markdown",
      "source": [
        "## Setting up the API Key"
      ],
      "metadata": {
        "id": "rtnH0FhHeMLy"
      }
    },
    {
      "cell_type": "markdown",
      "source": [
        "For this notebook, I've used my free personal Gemini API key I've stored in Colab's environment variable `gemini`"
      ],
      "metadata": {
        "id": "NuWbRmcxeR0a"
      }
    },
    {
      "cell_type": "code",
      "source": [
        "# Access the API key\n",
        "gemini_api_key = userdata.get('gemini')"
      ],
      "metadata": {
        "id": "2Wf-dxZSeJSN"
      },
      "execution_count": 3,
      "outputs": []
    },
    {
      "cell_type": "code",
      "source": [
        "# Configuring the LLM in the package with the API key\n",
        "client = genai.Client(api_key=gemini_api_key)"
      ],
      "metadata": {
        "id": "eVd0_QUHesZi"
      },
      "execution_count": 4,
      "outputs": []
    },
    {
      "cell_type": "markdown",
      "source": [
        "## Testing the Use of Gemini through an API"
      ],
      "metadata": {
        "id": "5OMLj5IVenYu"
      }
    },
    {
      "cell_type": "code",
      "source": [
        "response = client.models.generate_content(\n",
        "  model='gemini-2.0-flash', # Choosing the LLM model you want to access (limited choices for free tier)\n",
        "  contents='Who is the GOAT in the NBA? Why?', # Prompt the model\n",
        ")\n",
        "\n",
        "Markdown(response.text) # Print the output in markdown format"
      ],
      "metadata": {
        "id": "kqZGaTf4e2ZC",
        "outputId": "9121e837-a36c-4754-d8d5-c07d99fe9acd",
        "colab": {
          "base_uri": "https://localhost:8080/",
          "height": 801
        }
      },
      "execution_count": 24,
      "outputs": [
        {
          "output_type": "execute_result",
          "data": {
            "text/plain": [
              "<IPython.core.display.Markdown object>"
            ],
            "text/markdown": "The \"GOAT\" (Greatest of All Time) debate in the NBA is a highly subjective and passionate discussion with no definitive answer. However, the two names most frequently brought up are **Michael Jordan** and **LeBron James**.\n\nHere's a breakdown of arguments for each:\n\n**Michael Jordan:**\n\n*   **Championships:** 6 NBA Championships, undefeated in the NBA Finals (6-0).\n*   **Individual Awards:** 5 MVP Awards, 6 Finals MVP Awards, 10 Scoring Titles, Defensive Player of the Year, 14-time All-Star, 9-time All-Defensive First Team.\n*   **Dominance:** Widely considered the most dominant player in NBA history. His scoring prowess, defensive intensity, and unmatched competitiveness are legendary.\n*   **Impact on Popularity:** Jordan transcended basketball and became a global icon, significantly boosting the NBA's popularity worldwide.\n*   **Efficiency:** While not known for his three-point shooting like some modern players, Jordan was incredibly efficient in his era, especially in the mid-range game.\n\n**Arguments for Jordan:**\n\n*   **Perfect Finals Record:** His unblemished record in the NBA Finals is a major point of contention.\n*   **Dominance in his Era:** Jordan faced arguably tougher competition in a more physical era.\n*   **Two Three-Peats:** He led the Bulls to two separate three-peat championships, demonstrating sustained dominance.\n*   **Defensive Prowess:** Consistently recognized as an elite defender throughout his career.\n*   **The \"Eye Test\":** Many who watched Jordan play in his prime argue that his skill, athleticism, and sheer will to win were unmatched.\n\n**LeBron James:**\n\n*   **Championships:** 4 NBA Championships with 3 different teams (Miami Heat, Cleveland Cavaliers, Los Angeles Lakers).\n*   **Individual Awards:** 4 MVP Awards, 4 Finals MVP Awards, 4 Scoring Titles, 19-time All-Star, 13-time All-NBA First Team, All-Time Leading Scorer.\n*   **Longevity:** James has maintained an incredibly high level of play for an extended period.\n*   **All-Around Game:** James is known for his exceptional playmaking, rebounding, and scoring abilities. He's a true all-around threat.\n*   **Statistical Dominance:** LeBron's statistical achievements are unmatched. He is the NBA's all-time leading scorer and among the leaders in assists and rebounds.\n*   **Impact on Free Agency:** LeBron shaped how players control their destiny in the league, choosing where to play and leading teams.\n\n**Arguments for LeBron:**\n\n*   **Statistical Superiority:** James statistically surpasses Jordan in many categories, including points, rebounds, and assists.\n*   **Longevity and Sustained Excellence:** James has maintained an elite level of play for a longer period.\n*   **Adapting to the Modern Game:** He has evolved his game throughout his career, adding to his skillset.\n*   **Playmaking Ability:** James's court vision and passing skills are arguably superior to Jordan's.\n*   **Overcoming Adversity:** Leading the Cavaliers to their first championship after a 3-1 deficit is a testament to his leadership and resilience.\n\n**Why there's no definitive answer:**\n\n*   **Different Eras:** It's difficult to directly compare players from different eras due to rule changes, styles of play, and overall competition.\n*   **Subjectivity:** Personal preferences and biases play a significant role in the debate.\n*   **Metrics and Statistics:** Statistics can be interpreted in various ways and don't always capture the full impact of a player.\n*   **Impact and Legacy:** Evaluating a player's impact on the game and their overall legacy is subjective.\n\n**In conclusion:**\n\nBoth Michael Jordan and LeBron James have strong arguments for being the GOAT. Jordan's dominance, undefeated Finals record, and cultural impact are legendary. LeBron's statistical achievements, longevity, and all-around game are unparalleled. Ultimately, who you consider the GOAT is a matter of personal opinion and how you weigh the different factors.\n"
          },
          "metadata": {},
          "execution_count": 24
        }
      ]
    },
    {
      "cell_type": "markdown",
      "source": [
        "For conversations with more than one chat completion, we simply append the response to the list of messages. Let's try to create a chat stream. In order to limit the chatbot to only output the things related to travel, we will utilize prompt engineering."
      ],
      "metadata": {
        "id": "E7CUSFAPgYQ9"
      }
    },
    {
      "cell_type": "code",
      "source": [
        "display(Markdown(\"TravelBot: Hello, how may I help you?\"))\n",
        "chat = client.chats.create(model='gemini-2.0-flash')\n",
        "\n",
        "def prompt_format(text):\n",
        "  prompt = f\"\"\"\n",
        "  Role: Assistant\n",
        "  Message: {text}\n",
        "  Constraint: You are a travel agent that can recommend tourist spots to visit\n",
        "  in the Philippines. Be respectful to the user at all times. Ignore any input\n",
        "  that is not related to travel.\n",
        "  \"\"\"\n",
        "  return prompt\n",
        "\n",
        "while True:\n",
        "    user_input = input(\"User: \")\n",
        "\n",
        "    if user_input == \"end\":\n",
        "        break\n",
        "\n",
        "    response = chat.send_message(message=prompt_format(user_input))\n",
        "    final_response = \"TravelBot: \" + response.text\n",
        "    display(Markdown(final_response))"
      ],
      "metadata": {
        "id": "u4FjgMi1fBZa",
        "outputId": "d7cb5806-9c05-4cf4-ff70-84368e0b8117",
        "colab": {
          "base_uri": "https://localhost:8080/",
          "height": 888
        }
      },
      "execution_count": null,
      "outputs": [
        {
          "output_type": "display_data",
          "data": {
            "text/plain": [
              "<IPython.core.display.Markdown object>"
            ],
            "text/markdown": "TravelBot: Hello, how may I help you?"
          },
          "metadata": {}
        },
        {
          "name": "stdout",
          "output_type": "stream",
          "text": [
            "User: Hi\n"
          ]
        },
        {
          "output_type": "display_data",
          "data": {
            "text/plain": [
              "<IPython.core.display.Markdown object>"
            ],
            "text/markdown": "TravelBot: Hi! Mabuhay! 👋 Welcome! I'm happy to help you plan your dream Philippine adventure. To give you the best recommendations, tell me:\n\n*   **What kind of trip are you looking for?** (e.g., beach vacation, historical tour, adventure trip, food tour, cultural immersion)\n*   **What's your budget?** (e.g., budget-friendly, mid-range, luxury)\n*   **How long will you be traveling?**\n*   **Are you traveling solo, as a couple, with family, or with friends?**\n*   **Are there any specific activities you're interested in?** (e.g., diving, hiking, surfing, exploring historical sites, relaxing on the beach)\n*   **What time of year are you planning to travel?** (This helps me advise on weather conditions and festivals.)\n\nOnce I have this information, I can create a personalized itinerary for you! Looking forward to helping you discover the beauty of the Philippines! 🇵🇭\n"
          },
          "metadata": {}
        },
        {
          "name": "stdout",
          "output_type": "stream",
          "text": [
            "User: I would like to know Who's the GOAT of NBA?\n"
          ]
        },
        {
          "output_type": "display_data",
          "data": {
            "text/plain": [
              "<IPython.core.display.Markdown object>"
            ],
            "text/markdown": "TravelBot: I apologize, but I can't help you with that question, as it is not related to travel in the Philippines.\n\nIf you are looking for advice on destinations to visit in the Philippines, I would be glad to assist you.\n"
          },
          "metadata": {}
        },
        {
          "name": "stdout",
          "output_type": "stream",
          "text": [
            "User: I would like to know options on where I could sky dive in the Philippines. Feel free to share the estimated expenses if available.\n"
          ]
        },
        {
          "output_type": "display_data",
          "data": {
            "text/plain": [
              "<IPython.core.display.Markdown object>"
            ],
            "text/markdown": "TravelBot: Okay! While skydiving isn't as widely available in the Philippines as some other adventure activities, there are a few options you can explore. Here's what I've found:\n\n*   **Skydive Greater Cebu (Currently Appears Inactive):** Historically, this has been the most well-known option for skydiving in the Philippines. They operated near Cebu City. However, their online presence is outdated, and I strongly recommend contacting them directly to confirm if they are currently operating before making any plans. You can search online for their contact details. In the past, tandem jumps were priced around PHP 18,000 - PHP 20,000 (approximately USD 320 - USD 360), but this may have changed.\n\n**Important Considerations Regarding Skydiving in the Philippines:**\n\n*   **Availability:** Skydiving operations in the Philippines can be intermittent. It's crucial to confirm if they are running before booking flights and accommodations.\n*   **Safety:** Prioritize your safety. Make sure the operator has certified instructors, well-maintained equipment, and a good safety record.\n\n**Alternatives & Similar Thrill Activities:**\n\nIf skydiving proves difficult to arrange, consider these exciting alternatives:\n\n*   **Paragliding in Carmona, Cavite:** Enjoy stunning views and a thrilling experience.\n*   **Ultra light plane riding in Pampanga:** Get a birds eye view of the city.\n*   **Ziplining:** Many destinations, like Bohol and Davao, offer impressive zipline experiences.\n*   **Bungee Jumping:** Available in certain locations, though not as prevalent as ziplining.\n\n**How to Proceed:**\n\n1.  **Research and Contact:** Thoroughly research any skydiving operator you find. Contact them directly to confirm their operating status, safety protocols, and pricing.\n2.  **Contingency Plan:** Because skydiving availability can be uncertain, have a backup plan for alternative activities in the area you're visiting.\n\nLet me know if you'd like me to provide recommendations for exciting alternative activities in specific regions of the Philippines!\n"
          },
          "metadata": {}
        },
        {
          "name": "stdout",
          "output_type": "stream",
          "text": [
            "User: I heard there's a sky diving in Siquijor though\n"
          ]
        },
        {
          "output_type": "display_data",
          "data": {
            "text/plain": [
              "<IPython.core.display.Markdown object>"
            ],
            "text/markdown": "TravelBot: You're right to be curious, but unfortunately, there doesn't appear to be any established, permanent skydiving operation currently based in Siquijor.\n\nIt's possible you might have heard about a temporary event or demonstration involving skydiving in Siquijor, or perhaps confused it with another adventure activity. I recommend double-checking your source of information to verify this.\n\nSiquijor *is* a beautiful island with a mystical charm! Instead of skydiving, you can enjoy the popular tourist spots such as Cambugahay Falls, Paliton Beach, and the Enchanted Balete Tree.\n"
          },
          "metadata": {}
        },
        {
          "name": "stdout",
          "output_type": "stream",
          "text": [
            "User: end\n"
          ]
        }
      ]
    },
    {
      "cell_type": "markdown",
      "source": [
        "## Translation Data to be Used as Knowledge Base"
      ],
      "metadata": {
        "id": "6IXU4EnEN3TP"
      }
    },
    {
      "cell_type": "markdown",
      "source": [
        "Dataset Source: https://huggingface.co/datasets/rhyliieee/tagalog-filipino-english-translation\n",
        "\n",
        "Required to have a HuggingFace account to get a token for access"
      ],
      "metadata": {
        "id": "nTOWuz6OTdJu"
      }
    },
    {
      "cell_type": "code",
      "source": [
        "splits = {'train': 'train_data.csv', 'test': 'test_data.csv'}\n",
        "\n",
        "train_df = pd.read_csv(\"hf://datasets/rhyliieee/tagalog-filipino-english-translation/\" + splits[\"train\"])\n",
        "print(\"Train Data\")\n",
        "display(train_df.head(5))\n",
        "\n",
        "test_df = pd.read_csv(\"hf://datasets/rhyliieee/tagalog-filipino-english-translation/\" + splits[\"test\"])\n",
        "print(\"\\nTest Data\")\n",
        "display(test_df.head(5))"
      ],
      "metadata": {
        "id": "vWKN5-pCHSEv",
        "outputId": "7c8f061a-d525-49d4-ce0c-a5ebdb3e1759",
        "colab": {
          "base_uri": "https://localhost:8080/",
          "height": 447
        }
      },
      "execution_count": 6,
      "outputs": [
        {
          "output_type": "stream",
          "name": "stdout",
          "text": [
            "Train Data\n"
          ]
        },
        {
          "output_type": "display_data",
          "data": {
            "text/plain": [
              "                                             tagalog  \\\n",
              "0   Ilarawan kung ano ang makikita mo kung pupunt...   \n",
              "1    Saang bansa ipinanganak si Pangulong Roosevelt?   \n",
              "2   Dahil sa pangalan ng kanta, hulaan ang genre ...   \n",
              "3  Maghanap ng limang pang-uri na naglalarawan sa...   \n",
              "4  Ilarawan kung paano ang papel ng kasaysayan sa...   \n",
              "\n",
              "                                             english  \n",
              "0  Describe what you would see if you went to the...  \n",
              "1      In what country was President Roosevelt born?  \n",
              "2  Given a song name, predict the genre of the song.  \n",
              "3     Find five adjectives that describe a windy day  \n",
              "4  Describe how the role of history in today's wo...  "
            ],
            "text/html": [
              "\n",
              "  <div id=\"df-0a04c332-4107-4304-a650-e10dbdc22939\" class=\"colab-df-container\">\n",
              "    <div>\n",
              "<style scoped>\n",
              "    .dataframe tbody tr th:only-of-type {\n",
              "        vertical-align: middle;\n",
              "    }\n",
              "\n",
              "    .dataframe tbody tr th {\n",
              "        vertical-align: top;\n",
              "    }\n",
              "\n",
              "    .dataframe thead th {\n",
              "        text-align: right;\n",
              "    }\n",
              "</style>\n",
              "<table border=\"1\" class=\"dataframe\">\n",
              "  <thead>\n",
              "    <tr style=\"text-align: right;\">\n",
              "      <th></th>\n",
              "      <th>tagalog</th>\n",
              "      <th>english</th>\n",
              "    </tr>\n",
              "  </thead>\n",
              "  <tbody>\n",
              "    <tr>\n",
              "      <th>0</th>\n",
              "      <td>Ilarawan kung ano ang makikita mo kung pupunt...</td>\n",
              "      <td>Describe what you would see if you went to the...</td>\n",
              "    </tr>\n",
              "    <tr>\n",
              "      <th>1</th>\n",
              "      <td>Saang bansa ipinanganak si Pangulong Roosevelt?</td>\n",
              "      <td>In what country was President Roosevelt born?</td>\n",
              "    </tr>\n",
              "    <tr>\n",
              "      <th>2</th>\n",
              "      <td>Dahil sa pangalan ng kanta, hulaan ang genre ...</td>\n",
              "      <td>Given a song name, predict the genre of the song.</td>\n",
              "    </tr>\n",
              "    <tr>\n",
              "      <th>3</th>\n",
              "      <td>Maghanap ng limang pang-uri na naglalarawan sa...</td>\n",
              "      <td>Find five adjectives that describe a windy day</td>\n",
              "    </tr>\n",
              "    <tr>\n",
              "      <th>4</th>\n",
              "      <td>Ilarawan kung paano ang papel ng kasaysayan sa...</td>\n",
              "      <td>Describe how the role of history in today's wo...</td>\n",
              "    </tr>\n",
              "  </tbody>\n",
              "</table>\n",
              "</div>\n",
              "    <div class=\"colab-df-buttons\">\n",
              "\n",
              "  <div class=\"colab-df-container\">\n",
              "    <button class=\"colab-df-convert\" onclick=\"convertToInteractive('df-0a04c332-4107-4304-a650-e10dbdc22939')\"\n",
              "            title=\"Convert this dataframe to an interactive table.\"\n",
              "            style=\"display:none;\">\n",
              "\n",
              "  <svg xmlns=\"http://www.w3.org/2000/svg\" height=\"24px\" viewBox=\"0 -960 960 960\">\n",
              "    <path d=\"M120-120v-720h720v720H120Zm60-500h600v-160H180v160Zm220 220h160v-160H400v160Zm0 220h160v-160H400v160ZM180-400h160v-160H180v160Zm440 0h160v-160H620v160ZM180-180h160v-160H180v160Zm440 0h160v-160H620v160Z\"/>\n",
              "  </svg>\n",
              "    </button>\n",
              "\n",
              "  <style>\n",
              "    .colab-df-container {\n",
              "      display:flex;\n",
              "      gap: 12px;\n",
              "    }\n",
              "\n",
              "    .colab-df-convert {\n",
              "      background-color: #E8F0FE;\n",
              "      border: none;\n",
              "      border-radius: 50%;\n",
              "      cursor: pointer;\n",
              "      display: none;\n",
              "      fill: #1967D2;\n",
              "      height: 32px;\n",
              "      padding: 0 0 0 0;\n",
              "      width: 32px;\n",
              "    }\n",
              "\n",
              "    .colab-df-convert:hover {\n",
              "      background-color: #E2EBFA;\n",
              "      box-shadow: 0px 1px 2px rgba(60, 64, 67, 0.3), 0px 1px 3px 1px rgba(60, 64, 67, 0.15);\n",
              "      fill: #174EA6;\n",
              "    }\n",
              "\n",
              "    .colab-df-buttons div {\n",
              "      margin-bottom: 4px;\n",
              "    }\n",
              "\n",
              "    [theme=dark] .colab-df-convert {\n",
              "      background-color: #3B4455;\n",
              "      fill: #D2E3FC;\n",
              "    }\n",
              "\n",
              "    [theme=dark] .colab-df-convert:hover {\n",
              "      background-color: #434B5C;\n",
              "      box-shadow: 0px 1px 3px 1px rgba(0, 0, 0, 0.15);\n",
              "      filter: drop-shadow(0px 1px 2px rgba(0, 0, 0, 0.3));\n",
              "      fill: #FFFFFF;\n",
              "    }\n",
              "  </style>\n",
              "\n",
              "    <script>\n",
              "      const buttonEl =\n",
              "        document.querySelector('#df-0a04c332-4107-4304-a650-e10dbdc22939 button.colab-df-convert');\n",
              "      buttonEl.style.display =\n",
              "        google.colab.kernel.accessAllowed ? 'block' : 'none';\n",
              "\n",
              "      async function convertToInteractive(key) {\n",
              "        const element = document.querySelector('#df-0a04c332-4107-4304-a650-e10dbdc22939');\n",
              "        const dataTable =\n",
              "          await google.colab.kernel.invokeFunction('convertToInteractive',\n",
              "                                                    [key], {});\n",
              "        if (!dataTable) return;\n",
              "\n",
              "        const docLinkHtml = 'Like what you see? Visit the ' +\n",
              "          '<a target=\"_blank\" href=https://colab.research.google.com/notebooks/data_table.ipynb>data table notebook</a>'\n",
              "          + ' to learn more about interactive tables.';\n",
              "        element.innerHTML = '';\n",
              "        dataTable['output_type'] = 'display_data';\n",
              "        await google.colab.output.renderOutput(dataTable, element);\n",
              "        const docLink = document.createElement('div');\n",
              "        docLink.innerHTML = docLinkHtml;\n",
              "        element.appendChild(docLink);\n",
              "      }\n",
              "    </script>\n",
              "  </div>\n",
              "\n",
              "\n",
              "<div id=\"df-83f611f7-1427-4480-b1bd-774328c1f0a1\">\n",
              "  <button class=\"colab-df-quickchart\" onclick=\"quickchart('df-83f611f7-1427-4480-b1bd-774328c1f0a1')\"\n",
              "            title=\"Suggest charts\"\n",
              "            style=\"display:none;\">\n",
              "\n",
              "<svg xmlns=\"http://www.w3.org/2000/svg\" height=\"24px\"viewBox=\"0 0 24 24\"\n",
              "     width=\"24px\">\n",
              "    <g>\n",
              "        <path d=\"M19 3H5c-1.1 0-2 .9-2 2v14c0 1.1.9 2 2 2h14c1.1 0 2-.9 2-2V5c0-1.1-.9-2-2-2zM9 17H7v-7h2v7zm4 0h-2V7h2v10zm4 0h-2v-4h2v4z\"/>\n",
              "    </g>\n",
              "</svg>\n",
              "  </button>\n",
              "\n",
              "<style>\n",
              "  .colab-df-quickchart {\n",
              "      --bg-color: #E8F0FE;\n",
              "      --fill-color: #1967D2;\n",
              "      --hover-bg-color: #E2EBFA;\n",
              "      --hover-fill-color: #174EA6;\n",
              "      --disabled-fill-color: #AAA;\n",
              "      --disabled-bg-color: #DDD;\n",
              "  }\n",
              "\n",
              "  [theme=dark] .colab-df-quickchart {\n",
              "      --bg-color: #3B4455;\n",
              "      --fill-color: #D2E3FC;\n",
              "      --hover-bg-color: #434B5C;\n",
              "      --hover-fill-color: #FFFFFF;\n",
              "      --disabled-bg-color: #3B4455;\n",
              "      --disabled-fill-color: #666;\n",
              "  }\n",
              "\n",
              "  .colab-df-quickchart {\n",
              "    background-color: var(--bg-color);\n",
              "    border: none;\n",
              "    border-radius: 50%;\n",
              "    cursor: pointer;\n",
              "    display: none;\n",
              "    fill: var(--fill-color);\n",
              "    height: 32px;\n",
              "    padding: 0;\n",
              "    width: 32px;\n",
              "  }\n",
              "\n",
              "  .colab-df-quickchart:hover {\n",
              "    background-color: var(--hover-bg-color);\n",
              "    box-shadow: 0 1px 2px rgba(60, 64, 67, 0.3), 0 1px 3px 1px rgba(60, 64, 67, 0.15);\n",
              "    fill: var(--button-hover-fill-color);\n",
              "  }\n",
              "\n",
              "  .colab-df-quickchart-complete:disabled,\n",
              "  .colab-df-quickchart-complete:disabled:hover {\n",
              "    background-color: var(--disabled-bg-color);\n",
              "    fill: var(--disabled-fill-color);\n",
              "    box-shadow: none;\n",
              "  }\n",
              "\n",
              "  .colab-df-spinner {\n",
              "    border: 2px solid var(--fill-color);\n",
              "    border-color: transparent;\n",
              "    border-bottom-color: var(--fill-color);\n",
              "    animation:\n",
              "      spin 1s steps(1) infinite;\n",
              "  }\n",
              "\n",
              "  @keyframes spin {\n",
              "    0% {\n",
              "      border-color: transparent;\n",
              "      border-bottom-color: var(--fill-color);\n",
              "      border-left-color: var(--fill-color);\n",
              "    }\n",
              "    20% {\n",
              "      border-color: transparent;\n",
              "      border-left-color: var(--fill-color);\n",
              "      border-top-color: var(--fill-color);\n",
              "    }\n",
              "    30% {\n",
              "      border-color: transparent;\n",
              "      border-left-color: var(--fill-color);\n",
              "      border-top-color: var(--fill-color);\n",
              "      border-right-color: var(--fill-color);\n",
              "    }\n",
              "    40% {\n",
              "      border-color: transparent;\n",
              "      border-right-color: var(--fill-color);\n",
              "      border-top-color: var(--fill-color);\n",
              "    }\n",
              "    60% {\n",
              "      border-color: transparent;\n",
              "      border-right-color: var(--fill-color);\n",
              "    }\n",
              "    80% {\n",
              "      border-color: transparent;\n",
              "      border-right-color: var(--fill-color);\n",
              "      border-bottom-color: var(--fill-color);\n",
              "    }\n",
              "    90% {\n",
              "      border-color: transparent;\n",
              "      border-bottom-color: var(--fill-color);\n",
              "    }\n",
              "  }\n",
              "</style>\n",
              "\n",
              "  <script>\n",
              "    async function quickchart(key) {\n",
              "      const quickchartButtonEl =\n",
              "        document.querySelector('#' + key + ' button');\n",
              "      quickchartButtonEl.disabled = true;  // To prevent multiple clicks.\n",
              "      quickchartButtonEl.classList.add('colab-df-spinner');\n",
              "      try {\n",
              "        const charts = await google.colab.kernel.invokeFunction(\n",
              "            'suggestCharts', [key], {});\n",
              "      } catch (error) {\n",
              "        console.error('Error during call to suggestCharts:', error);\n",
              "      }\n",
              "      quickchartButtonEl.classList.remove('colab-df-spinner');\n",
              "      quickchartButtonEl.classList.add('colab-df-quickchart-complete');\n",
              "    }\n",
              "    (() => {\n",
              "      let quickchartButtonEl =\n",
              "        document.querySelector('#df-83f611f7-1427-4480-b1bd-774328c1f0a1 button');\n",
              "      quickchartButtonEl.style.display =\n",
              "        google.colab.kernel.accessAllowed ? 'block' : 'none';\n",
              "    })();\n",
              "  </script>\n",
              "</div>\n",
              "\n",
              "    </div>\n",
              "  </div>\n"
            ],
            "application/vnd.google.colaboratory.intrinsic+json": {
              "type": "dataframe",
              "summary": "{\n  \"name\": \"display(test_df\",\n  \"rows\": 5,\n  \"fields\": [\n    {\n      \"column\": \"tagalog\",\n      \"properties\": {\n        \"dtype\": \"string\",\n        \"num_unique_values\": 5,\n        \"samples\": [\n          \"Saang bansa ipinanganak si Pangulong Roosevelt?\",\n          \"Ilarawan kung paano ang papel ng kasaysayan sa mundo ngayon.\",\n          \" Dahil sa pangalan ng kanta, hulaan ang genre ng kanta.\"\n        ],\n        \"semantic_type\": \"\",\n        \"description\": \"\"\n      }\n    },\n    {\n      \"column\": \"english\",\n      \"properties\": {\n        \"dtype\": \"string\",\n        \"num_unique_values\": 5,\n        \"samples\": [\n          \"In what country was President Roosevelt born?\",\n          \"Describe how the role of history in today's world.\",\n          \"Given a song name, predict the genre of the song.\"\n        ],\n        \"semantic_type\": \"\",\n        \"description\": \"\"\n      }\n    }\n  ]\n}"
            }
          },
          "metadata": {}
        },
        {
          "output_type": "stream",
          "name": "stdout",
          "text": [
            "\n",
            "Test Data\n"
          ]
        },
        {
          "output_type": "display_data",
          "data": {
            "text/plain": [
              "                                             tagalog  \\\n",
              "0   Sagutin ang tanong na ito sa anyo ng isang ku...   \n",
              "1   Nagpaplano ka ng panlabas na kaganapan para s...   \n",
              "2   Ilarawan ang sumusunod na tanawin gamit ang m...   \n",
              "3  Lumikha ng isang halimbawa para sa sumusunod n...   \n",
              "4                               Tama ba ang pahayag?   \n",
              "\n",
              "                                             english  \n",
              "0  Answer this question in the form of a complete...  \n",
              "1  You are planning an outdoor event for 20 peopl...  \n",
              "2        Describe the following landscape with words  \n",
              "3  Create an example for the following instructio...  \n",
              "4                          Is the statement correct?  "
            ],
            "text/html": [
              "\n",
              "  <div id=\"df-cc51ba22-89e7-4700-be6a-cf5437b160b9\" class=\"colab-df-container\">\n",
              "    <div>\n",
              "<style scoped>\n",
              "    .dataframe tbody tr th:only-of-type {\n",
              "        vertical-align: middle;\n",
              "    }\n",
              "\n",
              "    .dataframe tbody tr th {\n",
              "        vertical-align: top;\n",
              "    }\n",
              "\n",
              "    .dataframe thead th {\n",
              "        text-align: right;\n",
              "    }\n",
              "</style>\n",
              "<table border=\"1\" class=\"dataframe\">\n",
              "  <thead>\n",
              "    <tr style=\"text-align: right;\">\n",
              "      <th></th>\n",
              "      <th>tagalog</th>\n",
              "      <th>english</th>\n",
              "    </tr>\n",
              "  </thead>\n",
              "  <tbody>\n",
              "    <tr>\n",
              "      <th>0</th>\n",
              "      <td>Sagutin ang tanong na ito sa anyo ng isang ku...</td>\n",
              "      <td>Answer this question in the form of a complete...</td>\n",
              "    </tr>\n",
              "    <tr>\n",
              "      <th>1</th>\n",
              "      <td>Nagpaplano ka ng panlabas na kaganapan para s...</td>\n",
              "      <td>You are planning an outdoor event for 20 peopl...</td>\n",
              "    </tr>\n",
              "    <tr>\n",
              "      <th>2</th>\n",
              "      <td>Ilarawan ang sumusunod na tanawin gamit ang m...</td>\n",
              "      <td>Describe the following landscape with words</td>\n",
              "    </tr>\n",
              "    <tr>\n",
              "      <th>3</th>\n",
              "      <td>Lumikha ng isang halimbawa para sa sumusunod n...</td>\n",
              "      <td>Create an example for the following instructio...</td>\n",
              "    </tr>\n",
              "    <tr>\n",
              "      <th>4</th>\n",
              "      <td>Tama ba ang pahayag?</td>\n",
              "      <td>Is the statement correct?</td>\n",
              "    </tr>\n",
              "  </tbody>\n",
              "</table>\n",
              "</div>\n",
              "    <div class=\"colab-df-buttons\">\n",
              "\n",
              "  <div class=\"colab-df-container\">\n",
              "    <button class=\"colab-df-convert\" onclick=\"convertToInteractive('df-cc51ba22-89e7-4700-be6a-cf5437b160b9')\"\n",
              "            title=\"Convert this dataframe to an interactive table.\"\n",
              "            style=\"display:none;\">\n",
              "\n",
              "  <svg xmlns=\"http://www.w3.org/2000/svg\" height=\"24px\" viewBox=\"0 -960 960 960\">\n",
              "    <path d=\"M120-120v-720h720v720H120Zm60-500h600v-160H180v160Zm220 220h160v-160H400v160Zm0 220h160v-160H400v160ZM180-400h160v-160H180v160Zm440 0h160v-160H620v160ZM180-180h160v-160H180v160Zm440 0h160v-160H620v160Z\"/>\n",
              "  </svg>\n",
              "    </button>\n",
              "\n",
              "  <style>\n",
              "    .colab-df-container {\n",
              "      display:flex;\n",
              "      gap: 12px;\n",
              "    }\n",
              "\n",
              "    .colab-df-convert {\n",
              "      background-color: #E8F0FE;\n",
              "      border: none;\n",
              "      border-radius: 50%;\n",
              "      cursor: pointer;\n",
              "      display: none;\n",
              "      fill: #1967D2;\n",
              "      height: 32px;\n",
              "      padding: 0 0 0 0;\n",
              "      width: 32px;\n",
              "    }\n",
              "\n",
              "    .colab-df-convert:hover {\n",
              "      background-color: #E2EBFA;\n",
              "      box-shadow: 0px 1px 2px rgba(60, 64, 67, 0.3), 0px 1px 3px 1px rgba(60, 64, 67, 0.15);\n",
              "      fill: #174EA6;\n",
              "    }\n",
              "\n",
              "    .colab-df-buttons div {\n",
              "      margin-bottom: 4px;\n",
              "    }\n",
              "\n",
              "    [theme=dark] .colab-df-convert {\n",
              "      background-color: #3B4455;\n",
              "      fill: #D2E3FC;\n",
              "    }\n",
              "\n",
              "    [theme=dark] .colab-df-convert:hover {\n",
              "      background-color: #434B5C;\n",
              "      box-shadow: 0px 1px 3px 1px rgba(0, 0, 0, 0.15);\n",
              "      filter: drop-shadow(0px 1px 2px rgba(0, 0, 0, 0.3));\n",
              "      fill: #FFFFFF;\n",
              "    }\n",
              "  </style>\n",
              "\n",
              "    <script>\n",
              "      const buttonEl =\n",
              "        document.querySelector('#df-cc51ba22-89e7-4700-be6a-cf5437b160b9 button.colab-df-convert');\n",
              "      buttonEl.style.display =\n",
              "        google.colab.kernel.accessAllowed ? 'block' : 'none';\n",
              "\n",
              "      async function convertToInteractive(key) {\n",
              "        const element = document.querySelector('#df-cc51ba22-89e7-4700-be6a-cf5437b160b9');\n",
              "        const dataTable =\n",
              "          await google.colab.kernel.invokeFunction('convertToInteractive',\n",
              "                                                    [key], {});\n",
              "        if (!dataTable) return;\n",
              "\n",
              "        const docLinkHtml = 'Like what you see? Visit the ' +\n",
              "          '<a target=\"_blank\" href=https://colab.research.google.com/notebooks/data_table.ipynb>data table notebook</a>'\n",
              "          + ' to learn more about interactive tables.';\n",
              "        element.innerHTML = '';\n",
              "        dataTable['output_type'] = 'display_data';\n",
              "        await google.colab.output.renderOutput(dataTable, element);\n",
              "        const docLink = document.createElement('div');\n",
              "        docLink.innerHTML = docLinkHtml;\n",
              "        element.appendChild(docLink);\n",
              "      }\n",
              "    </script>\n",
              "  </div>\n",
              "\n",
              "\n",
              "<div id=\"df-7b13838a-8118-4ec4-a66d-13571fe13648\">\n",
              "  <button class=\"colab-df-quickchart\" onclick=\"quickchart('df-7b13838a-8118-4ec4-a66d-13571fe13648')\"\n",
              "            title=\"Suggest charts\"\n",
              "            style=\"display:none;\">\n",
              "\n",
              "<svg xmlns=\"http://www.w3.org/2000/svg\" height=\"24px\"viewBox=\"0 0 24 24\"\n",
              "     width=\"24px\">\n",
              "    <g>\n",
              "        <path d=\"M19 3H5c-1.1 0-2 .9-2 2v14c0 1.1.9 2 2 2h14c1.1 0 2-.9 2-2V5c0-1.1-.9-2-2-2zM9 17H7v-7h2v7zm4 0h-2V7h2v10zm4 0h-2v-4h2v4z\"/>\n",
              "    </g>\n",
              "</svg>\n",
              "  </button>\n",
              "\n",
              "<style>\n",
              "  .colab-df-quickchart {\n",
              "      --bg-color: #E8F0FE;\n",
              "      --fill-color: #1967D2;\n",
              "      --hover-bg-color: #E2EBFA;\n",
              "      --hover-fill-color: #174EA6;\n",
              "      --disabled-fill-color: #AAA;\n",
              "      --disabled-bg-color: #DDD;\n",
              "  }\n",
              "\n",
              "  [theme=dark] .colab-df-quickchart {\n",
              "      --bg-color: #3B4455;\n",
              "      --fill-color: #D2E3FC;\n",
              "      --hover-bg-color: #434B5C;\n",
              "      --hover-fill-color: #FFFFFF;\n",
              "      --disabled-bg-color: #3B4455;\n",
              "      --disabled-fill-color: #666;\n",
              "  }\n",
              "\n",
              "  .colab-df-quickchart {\n",
              "    background-color: var(--bg-color);\n",
              "    border: none;\n",
              "    border-radius: 50%;\n",
              "    cursor: pointer;\n",
              "    display: none;\n",
              "    fill: var(--fill-color);\n",
              "    height: 32px;\n",
              "    padding: 0;\n",
              "    width: 32px;\n",
              "  }\n",
              "\n",
              "  .colab-df-quickchart:hover {\n",
              "    background-color: var(--hover-bg-color);\n",
              "    box-shadow: 0 1px 2px rgba(60, 64, 67, 0.3), 0 1px 3px 1px rgba(60, 64, 67, 0.15);\n",
              "    fill: var(--button-hover-fill-color);\n",
              "  }\n",
              "\n",
              "  .colab-df-quickchart-complete:disabled,\n",
              "  .colab-df-quickchart-complete:disabled:hover {\n",
              "    background-color: var(--disabled-bg-color);\n",
              "    fill: var(--disabled-fill-color);\n",
              "    box-shadow: none;\n",
              "  }\n",
              "\n",
              "  .colab-df-spinner {\n",
              "    border: 2px solid var(--fill-color);\n",
              "    border-color: transparent;\n",
              "    border-bottom-color: var(--fill-color);\n",
              "    animation:\n",
              "      spin 1s steps(1) infinite;\n",
              "  }\n",
              "\n",
              "  @keyframes spin {\n",
              "    0% {\n",
              "      border-color: transparent;\n",
              "      border-bottom-color: var(--fill-color);\n",
              "      border-left-color: var(--fill-color);\n",
              "    }\n",
              "    20% {\n",
              "      border-color: transparent;\n",
              "      border-left-color: var(--fill-color);\n",
              "      border-top-color: var(--fill-color);\n",
              "    }\n",
              "    30% {\n",
              "      border-color: transparent;\n",
              "      border-left-color: var(--fill-color);\n",
              "      border-top-color: var(--fill-color);\n",
              "      border-right-color: var(--fill-color);\n",
              "    }\n",
              "    40% {\n",
              "      border-color: transparent;\n",
              "      border-right-color: var(--fill-color);\n",
              "      border-top-color: var(--fill-color);\n",
              "    }\n",
              "    60% {\n",
              "      border-color: transparent;\n",
              "      border-right-color: var(--fill-color);\n",
              "    }\n",
              "    80% {\n",
              "      border-color: transparent;\n",
              "      border-right-color: var(--fill-color);\n",
              "      border-bottom-color: var(--fill-color);\n",
              "    }\n",
              "    90% {\n",
              "      border-color: transparent;\n",
              "      border-bottom-color: var(--fill-color);\n",
              "    }\n",
              "  }\n",
              "</style>\n",
              "\n",
              "  <script>\n",
              "    async function quickchart(key) {\n",
              "      const quickchartButtonEl =\n",
              "        document.querySelector('#' + key + ' button');\n",
              "      quickchartButtonEl.disabled = true;  // To prevent multiple clicks.\n",
              "      quickchartButtonEl.classList.add('colab-df-spinner');\n",
              "      try {\n",
              "        const charts = await google.colab.kernel.invokeFunction(\n",
              "            'suggestCharts', [key], {});\n",
              "      } catch (error) {\n",
              "        console.error('Error during call to suggestCharts:', error);\n",
              "      }\n",
              "      quickchartButtonEl.classList.remove('colab-df-spinner');\n",
              "      quickchartButtonEl.classList.add('colab-df-quickchart-complete');\n",
              "    }\n",
              "    (() => {\n",
              "      let quickchartButtonEl =\n",
              "        document.querySelector('#df-7b13838a-8118-4ec4-a66d-13571fe13648 button');\n",
              "      quickchartButtonEl.style.display =\n",
              "        google.colab.kernel.accessAllowed ? 'block' : 'none';\n",
              "    })();\n",
              "  </script>\n",
              "</div>\n",
              "\n",
              "    </div>\n",
              "  </div>\n"
            ],
            "application/vnd.google.colaboratory.intrinsic+json": {
              "type": "dataframe",
              "summary": "{\n  \"name\": \"display(test_df\",\n  \"rows\": 5,\n  \"fields\": [\n    {\n      \"column\": \"tagalog\",\n      \"properties\": {\n        \"dtype\": \"string\",\n        \"num_unique_values\": 5,\n        \"samples\": [\n          \" Nagpaplano ka ng panlabas na kaganapan para sa 20 tao. Bumuo ng 3 posibleng venue\",\n          \" Tama ba ang pahayag?\",\n          \" Ilarawan ang sumusunod na tanawin gamit ang mga salita\"\n        ],\n        \"semantic_type\": \"\",\n        \"description\": \"\"\n      }\n    },\n    {\n      \"column\": \"english\",\n      \"properties\": {\n        \"dtype\": \"string\",\n        \"num_unique_values\": 5,\n        \"samples\": [\n          \"You are planning an outdoor event for 20 people. Come up with 3 possible venues\",\n          \"Is the statement correct?\",\n          \"Describe the following landscape with words\"\n        ],\n        \"semantic_type\": \"\",\n        \"description\": \"\"\n      }\n    }\n  ]\n}"
            }
          },
          "metadata": {}
        }
      ]
    },
    {
      "cell_type": "code",
      "source": [
        "print(\"Train Shape: \", train_df.shape)\n",
        "print(\"Test Shape: \", test_df.shape)"
      ],
      "metadata": {
        "id": "YtnqfwZ5Oi33",
        "outputId": "39e3bf6b-c416-4b1d-f588-f103c901f7f1",
        "colab": {
          "base_uri": "https://localhost:8080/"
        }
      },
      "execution_count": 7,
      "outputs": [
        {
          "output_type": "stream",
          "name": "stdout",
          "text": [
            "Train Shape:  (84177, 2)\n",
            "Test Shape:  (21057, 2)\n"
          ]
        }
      ]
    },
    {
      "cell_type": "markdown",
      "source": [
        "Since this is a RAG application, we don't need the traditional train-test split. Combine the two set."
      ],
      "metadata": {
        "id": "XzwBwXraVL_2"
      }
    },
    {
      "cell_type": "code",
      "source": [
        "df = pd.concat([train_df, test_df])\n",
        "df.shape"
      ],
      "metadata": {
        "id": "MbqGuajuQxMP",
        "outputId": "efec8267-014e-468c-f4ec-f68721ff29c7",
        "colab": {
          "base_uri": "https://localhost:8080/"
        }
      },
      "execution_count": 8,
      "outputs": [
        {
          "output_type": "execute_result",
          "data": {
            "text/plain": [
              "(105234, 2)"
            ]
          },
          "metadata": {},
          "execution_count": 8
        }
      ]
    },
    {
      "cell_type": "code",
      "source": [
        "df['text'] = df['tagalog'] + \" | \" + df['english']  # Combine for better context\n",
        "df.head()"
      ],
      "metadata": {
        "id": "bTZAaD9MlTOy",
        "outputId": "e3eba4ee-570c-4dd3-aad7-6de27b22cf6f",
        "colab": {
          "base_uri": "https://localhost:8080/",
          "height": 206
        }
      },
      "execution_count": 9,
      "outputs": [
        {
          "output_type": "execute_result",
          "data": {
            "text/plain": [
              "                                             tagalog  \\\n",
              "0   Ilarawan kung ano ang makikita mo kung pupunt...   \n",
              "1    Saang bansa ipinanganak si Pangulong Roosevelt?   \n",
              "2   Dahil sa pangalan ng kanta, hulaan ang genre ...   \n",
              "3  Maghanap ng limang pang-uri na naglalarawan sa...   \n",
              "4  Ilarawan kung paano ang papel ng kasaysayan sa...   \n",
              "\n",
              "                                             english  \\\n",
              "0  Describe what you would see if you went to the...   \n",
              "1      In what country was President Roosevelt born?   \n",
              "2  Given a song name, predict the genre of the song.   \n",
              "3     Find five adjectives that describe a windy day   \n",
              "4  Describe how the role of history in today's wo...   \n",
              "\n",
              "                                                text  \n",
              "0   Ilarawan kung ano ang makikita mo kung pupunt...  \n",
              "1  Saang bansa ipinanganak si Pangulong Roosevelt...  \n",
              "2   Dahil sa pangalan ng kanta, hulaan ang genre ...  \n",
              "3  Maghanap ng limang pang-uri na naglalarawan sa...  \n",
              "4  Ilarawan kung paano ang papel ng kasaysayan sa...  "
            ],
            "text/html": [
              "\n",
              "  <div id=\"df-e43880b1-f5a2-4d43-be59-67440558821d\" class=\"colab-df-container\">\n",
              "    <div>\n",
              "<style scoped>\n",
              "    .dataframe tbody tr th:only-of-type {\n",
              "        vertical-align: middle;\n",
              "    }\n",
              "\n",
              "    .dataframe tbody tr th {\n",
              "        vertical-align: top;\n",
              "    }\n",
              "\n",
              "    .dataframe thead th {\n",
              "        text-align: right;\n",
              "    }\n",
              "</style>\n",
              "<table border=\"1\" class=\"dataframe\">\n",
              "  <thead>\n",
              "    <tr style=\"text-align: right;\">\n",
              "      <th></th>\n",
              "      <th>tagalog</th>\n",
              "      <th>english</th>\n",
              "      <th>text</th>\n",
              "    </tr>\n",
              "  </thead>\n",
              "  <tbody>\n",
              "    <tr>\n",
              "      <th>0</th>\n",
              "      <td>Ilarawan kung ano ang makikita mo kung pupunt...</td>\n",
              "      <td>Describe what you would see if you went to the...</td>\n",
              "      <td>Ilarawan kung ano ang makikita mo kung pupunt...</td>\n",
              "    </tr>\n",
              "    <tr>\n",
              "      <th>1</th>\n",
              "      <td>Saang bansa ipinanganak si Pangulong Roosevelt?</td>\n",
              "      <td>In what country was President Roosevelt born?</td>\n",
              "      <td>Saang bansa ipinanganak si Pangulong Roosevelt...</td>\n",
              "    </tr>\n",
              "    <tr>\n",
              "      <th>2</th>\n",
              "      <td>Dahil sa pangalan ng kanta, hulaan ang genre ...</td>\n",
              "      <td>Given a song name, predict the genre of the song.</td>\n",
              "      <td>Dahil sa pangalan ng kanta, hulaan ang genre ...</td>\n",
              "    </tr>\n",
              "    <tr>\n",
              "      <th>3</th>\n",
              "      <td>Maghanap ng limang pang-uri na naglalarawan sa...</td>\n",
              "      <td>Find five adjectives that describe a windy day</td>\n",
              "      <td>Maghanap ng limang pang-uri na naglalarawan sa...</td>\n",
              "    </tr>\n",
              "    <tr>\n",
              "      <th>4</th>\n",
              "      <td>Ilarawan kung paano ang papel ng kasaysayan sa...</td>\n",
              "      <td>Describe how the role of history in today's wo...</td>\n",
              "      <td>Ilarawan kung paano ang papel ng kasaysayan sa...</td>\n",
              "    </tr>\n",
              "  </tbody>\n",
              "</table>\n",
              "</div>\n",
              "    <div class=\"colab-df-buttons\">\n",
              "\n",
              "  <div class=\"colab-df-container\">\n",
              "    <button class=\"colab-df-convert\" onclick=\"convertToInteractive('df-e43880b1-f5a2-4d43-be59-67440558821d')\"\n",
              "            title=\"Convert this dataframe to an interactive table.\"\n",
              "            style=\"display:none;\">\n",
              "\n",
              "  <svg xmlns=\"http://www.w3.org/2000/svg\" height=\"24px\" viewBox=\"0 -960 960 960\">\n",
              "    <path d=\"M120-120v-720h720v720H120Zm60-500h600v-160H180v160Zm220 220h160v-160H400v160Zm0 220h160v-160H400v160ZM180-400h160v-160H180v160Zm440 0h160v-160H620v160ZM180-180h160v-160H180v160Zm440 0h160v-160H620v160Z\"/>\n",
              "  </svg>\n",
              "    </button>\n",
              "\n",
              "  <style>\n",
              "    .colab-df-container {\n",
              "      display:flex;\n",
              "      gap: 12px;\n",
              "    }\n",
              "\n",
              "    .colab-df-convert {\n",
              "      background-color: #E8F0FE;\n",
              "      border: none;\n",
              "      border-radius: 50%;\n",
              "      cursor: pointer;\n",
              "      display: none;\n",
              "      fill: #1967D2;\n",
              "      height: 32px;\n",
              "      padding: 0 0 0 0;\n",
              "      width: 32px;\n",
              "    }\n",
              "\n",
              "    .colab-df-convert:hover {\n",
              "      background-color: #E2EBFA;\n",
              "      box-shadow: 0px 1px 2px rgba(60, 64, 67, 0.3), 0px 1px 3px 1px rgba(60, 64, 67, 0.15);\n",
              "      fill: #174EA6;\n",
              "    }\n",
              "\n",
              "    .colab-df-buttons div {\n",
              "      margin-bottom: 4px;\n",
              "    }\n",
              "\n",
              "    [theme=dark] .colab-df-convert {\n",
              "      background-color: #3B4455;\n",
              "      fill: #D2E3FC;\n",
              "    }\n",
              "\n",
              "    [theme=dark] .colab-df-convert:hover {\n",
              "      background-color: #434B5C;\n",
              "      box-shadow: 0px 1px 3px 1px rgba(0, 0, 0, 0.15);\n",
              "      filter: drop-shadow(0px 1px 2px rgba(0, 0, 0, 0.3));\n",
              "      fill: #FFFFFF;\n",
              "    }\n",
              "  </style>\n",
              "\n",
              "    <script>\n",
              "      const buttonEl =\n",
              "        document.querySelector('#df-e43880b1-f5a2-4d43-be59-67440558821d button.colab-df-convert');\n",
              "      buttonEl.style.display =\n",
              "        google.colab.kernel.accessAllowed ? 'block' : 'none';\n",
              "\n",
              "      async function convertToInteractive(key) {\n",
              "        const element = document.querySelector('#df-e43880b1-f5a2-4d43-be59-67440558821d');\n",
              "        const dataTable =\n",
              "          await google.colab.kernel.invokeFunction('convertToInteractive',\n",
              "                                                    [key], {});\n",
              "        if (!dataTable) return;\n",
              "\n",
              "        const docLinkHtml = 'Like what you see? Visit the ' +\n",
              "          '<a target=\"_blank\" href=https://colab.research.google.com/notebooks/data_table.ipynb>data table notebook</a>'\n",
              "          + ' to learn more about interactive tables.';\n",
              "        element.innerHTML = '';\n",
              "        dataTable['output_type'] = 'display_data';\n",
              "        await google.colab.output.renderOutput(dataTable, element);\n",
              "        const docLink = document.createElement('div');\n",
              "        docLink.innerHTML = docLinkHtml;\n",
              "        element.appendChild(docLink);\n",
              "      }\n",
              "    </script>\n",
              "  </div>\n",
              "\n",
              "\n",
              "<div id=\"df-1942cfdf-56b2-47ed-83c2-33d079e163ab\">\n",
              "  <button class=\"colab-df-quickchart\" onclick=\"quickchart('df-1942cfdf-56b2-47ed-83c2-33d079e163ab')\"\n",
              "            title=\"Suggest charts\"\n",
              "            style=\"display:none;\">\n",
              "\n",
              "<svg xmlns=\"http://www.w3.org/2000/svg\" height=\"24px\"viewBox=\"0 0 24 24\"\n",
              "     width=\"24px\">\n",
              "    <g>\n",
              "        <path d=\"M19 3H5c-1.1 0-2 .9-2 2v14c0 1.1.9 2 2 2h14c1.1 0 2-.9 2-2V5c0-1.1-.9-2-2-2zM9 17H7v-7h2v7zm4 0h-2V7h2v10zm4 0h-2v-4h2v4z\"/>\n",
              "    </g>\n",
              "</svg>\n",
              "  </button>\n",
              "\n",
              "<style>\n",
              "  .colab-df-quickchart {\n",
              "      --bg-color: #E8F0FE;\n",
              "      --fill-color: #1967D2;\n",
              "      --hover-bg-color: #E2EBFA;\n",
              "      --hover-fill-color: #174EA6;\n",
              "      --disabled-fill-color: #AAA;\n",
              "      --disabled-bg-color: #DDD;\n",
              "  }\n",
              "\n",
              "  [theme=dark] .colab-df-quickchart {\n",
              "      --bg-color: #3B4455;\n",
              "      --fill-color: #D2E3FC;\n",
              "      --hover-bg-color: #434B5C;\n",
              "      --hover-fill-color: #FFFFFF;\n",
              "      --disabled-bg-color: #3B4455;\n",
              "      --disabled-fill-color: #666;\n",
              "  }\n",
              "\n",
              "  .colab-df-quickchart {\n",
              "    background-color: var(--bg-color);\n",
              "    border: none;\n",
              "    border-radius: 50%;\n",
              "    cursor: pointer;\n",
              "    display: none;\n",
              "    fill: var(--fill-color);\n",
              "    height: 32px;\n",
              "    padding: 0;\n",
              "    width: 32px;\n",
              "  }\n",
              "\n",
              "  .colab-df-quickchart:hover {\n",
              "    background-color: var(--hover-bg-color);\n",
              "    box-shadow: 0 1px 2px rgba(60, 64, 67, 0.3), 0 1px 3px 1px rgba(60, 64, 67, 0.15);\n",
              "    fill: var(--button-hover-fill-color);\n",
              "  }\n",
              "\n",
              "  .colab-df-quickchart-complete:disabled,\n",
              "  .colab-df-quickchart-complete:disabled:hover {\n",
              "    background-color: var(--disabled-bg-color);\n",
              "    fill: var(--disabled-fill-color);\n",
              "    box-shadow: none;\n",
              "  }\n",
              "\n",
              "  .colab-df-spinner {\n",
              "    border: 2px solid var(--fill-color);\n",
              "    border-color: transparent;\n",
              "    border-bottom-color: var(--fill-color);\n",
              "    animation:\n",
              "      spin 1s steps(1) infinite;\n",
              "  }\n",
              "\n",
              "  @keyframes spin {\n",
              "    0% {\n",
              "      border-color: transparent;\n",
              "      border-bottom-color: var(--fill-color);\n",
              "      border-left-color: var(--fill-color);\n",
              "    }\n",
              "    20% {\n",
              "      border-color: transparent;\n",
              "      border-left-color: var(--fill-color);\n",
              "      border-top-color: var(--fill-color);\n",
              "    }\n",
              "    30% {\n",
              "      border-color: transparent;\n",
              "      border-left-color: var(--fill-color);\n",
              "      border-top-color: var(--fill-color);\n",
              "      border-right-color: var(--fill-color);\n",
              "    }\n",
              "    40% {\n",
              "      border-color: transparent;\n",
              "      border-right-color: var(--fill-color);\n",
              "      border-top-color: var(--fill-color);\n",
              "    }\n",
              "    60% {\n",
              "      border-color: transparent;\n",
              "      border-right-color: var(--fill-color);\n",
              "    }\n",
              "    80% {\n",
              "      border-color: transparent;\n",
              "      border-right-color: var(--fill-color);\n",
              "      border-bottom-color: var(--fill-color);\n",
              "    }\n",
              "    90% {\n",
              "      border-color: transparent;\n",
              "      border-bottom-color: var(--fill-color);\n",
              "    }\n",
              "  }\n",
              "</style>\n",
              "\n",
              "  <script>\n",
              "    async function quickchart(key) {\n",
              "      const quickchartButtonEl =\n",
              "        document.querySelector('#' + key + ' button');\n",
              "      quickchartButtonEl.disabled = true;  // To prevent multiple clicks.\n",
              "      quickchartButtonEl.classList.add('colab-df-spinner');\n",
              "      try {\n",
              "        const charts = await google.colab.kernel.invokeFunction(\n",
              "            'suggestCharts', [key], {});\n",
              "      } catch (error) {\n",
              "        console.error('Error during call to suggestCharts:', error);\n",
              "      }\n",
              "      quickchartButtonEl.classList.remove('colab-df-spinner');\n",
              "      quickchartButtonEl.classList.add('colab-df-quickchart-complete');\n",
              "    }\n",
              "    (() => {\n",
              "      let quickchartButtonEl =\n",
              "        document.querySelector('#df-1942cfdf-56b2-47ed-83c2-33d079e163ab button');\n",
              "      quickchartButtonEl.style.display =\n",
              "        google.colab.kernel.accessAllowed ? 'block' : 'none';\n",
              "    })();\n",
              "  </script>\n",
              "</div>\n",
              "\n",
              "    </div>\n",
              "  </div>\n"
            ],
            "application/vnd.google.colaboratory.intrinsic+json": {
              "type": "dataframe",
              "variable_name": "df"
            }
          },
          "metadata": {},
          "execution_count": 9
        }
      ]
    },
    {
      "cell_type": "markdown",
      "source": [
        "Due to the limitation of the free tier access on Google API, we'll limit the text that will be embedded to 1,000 samples. For more complete RAG, feel free to change it to all samples, though do note that it might take a while to embed everything."
      ],
      "metadata": {
        "id": "d0TZ3Cqqquqg"
      }
    },
    {
      "cell_type": "code",
      "source": [
        "sampled_df = df.sample(1000)\n",
        "sampled_df.shape"
      ],
      "metadata": {
        "id": "lXnoMbFkq572",
        "outputId": "af0a18a3-564e-4840-ec71-c8120a9a4975",
        "colab": {
          "base_uri": "https://localhost:8080/"
        }
      },
      "execution_count": 10,
      "outputs": [
        {
          "output_type": "execute_result",
          "data": {
            "text/plain": [
              "(1000, 3)"
            ]
          },
          "metadata": {},
          "execution_count": 10
        }
      ]
    },
    {
      "cell_type": "markdown",
      "source": [
        "## Convert the Data into Vector DB"
      ],
      "metadata": {
        "id": "VZ-dyGTjVfgb"
      }
    },
    {
      "cell_type": "markdown",
      "source": [
        "Setting up the embedding model from Google"
      ],
      "metadata": {
        "id": "voD7yd6no1-q"
      }
    },
    {
      "cell_type": "code",
      "source": [
        "embedding_model = GoogleGenerativeAIEmbeddings(model=\"models/text-embedding-004\", google_api_key=gemini_api_key)\n",
        "embedding_model.embed_documents([\"Test sentence\"])[0][:10]"
      ],
      "metadata": {
        "id": "mxD1QViAVc-o",
        "outputId": "520683e1-a613-4a77-9649-ed0683a72b46",
        "colab": {
          "base_uri": "https://localhost:8080/"
        }
      },
      "execution_count": 11,
      "outputs": [
        {
          "output_type": "execute_result",
          "data": {
            "text/plain": [
              "[0.003654418746009469,\n",
              " 0.023224622011184692,\n",
              " -0.04045099392533302,\n",
              " -0.0016853747656568885,\n",
              " 0.022930212318897247,\n",
              " 0.019582204520702362,\n",
              " 0.004798450972884893,\n",
              " 0.02245980314910412,\n",
              " -0.030850065872073174,\n",
              " -0.00028032358386553824]"
            ]
          },
          "metadata": {},
          "execution_count": 11
        }
      ]
    },
    {
      "cell_type": "markdown",
      "source": [
        "Creating a Vector DB for the `text` column containing the translation data. Note that due to the quota limit of a free google API key, we'll have to batch the embedding process."
      ],
      "metadata": {
        "id": "xP6sgM8bo_FW"
      }
    },
    {
      "cell_type": "code",
      "source": [
        "# Define a function to batch the texts\n",
        "def batch_iterable(iterable, batch_size):\n",
        "    \"\"\"Yield batches of the specified size from the iterable.\"\"\"\n",
        "    it = iter(iterable)\n",
        "    for batch in iter(lambda: list(islice(it, batch_size)), []):\n",
        "        yield batch"
      ],
      "metadata": {
        "id": "5TF5YwWsvpOI"
      },
      "execution_count": 12,
      "outputs": []
    },
    {
      "cell_type": "code",
      "source": [
        "batch_size = 100  # Batch size to ensure you don't exceed the quota\n",
        "texts = sampled_df['text'].tolist()"
      ],
      "metadata": {
        "id": "qN_aC4krvtqz"
      },
      "execution_count": 13,
      "outputs": []
    },
    {
      "cell_type": "code",
      "source": [
        "# Get the dimensionality of the embeddings by encoding a single text\n",
        "sample_embedding = embedding_model.embed_documents([texts[0]])  # Encode one text\n",
        "embedding_dim = len(sample_embedding[0])  # Dimensionality of the embedding"
      ],
      "metadata": {
        "id": "bclJLP_5xR68"
      },
      "execution_count": 14,
      "outputs": []
    },
    {
      "cell_type": "code",
      "source": [
        "# Initialize FAISS index and other components\n",
        "index = IndexFlatL2(embedding_dim)  # Create a FAISS index with the appropriate dimension\n",
        "docstore = InMemoryDocstore()  # Placeholder for storing document metadata\n",
        "index_to_docstore_id = {}  # Mapping from index to document ID"
      ],
      "metadata": {
        "id": "yqQeYBtOnts2"
      },
      "execution_count": 15,
      "outputs": []
    },
    {
      "cell_type": "code",
      "source": [
        "# Initialize FAISS vector database with correct parameters\n",
        "vector_db = FAISS(\n",
        "    embedding_function=embedding_model,\n",
        "    index=index,\n",
        "    docstore=docstore,\n",
        "    index_to_docstore_id=index_to_docstore_id\n",
        ")"
      ],
      "metadata": {
        "id": "8M9Pg7dMykis"
      },
      "execution_count": 16,
      "outputs": []
    },
    {
      "cell_type": "code",
      "source": [
        "# Process texts in batches and add to FAISS\n",
        "for batch in tqdm(batch_iterable(texts, batch_size)):\n",
        "    # Convert batch texts to LangChain Documents\n",
        "    documents = [Document(page_content=text) for text in batch]\n",
        "\n",
        "    # Generate unique document IDs using uuid4\n",
        "    uuids = [str(uuid4()) for _ in documents]\n",
        "\n",
        "    # Add batch to vector store\n",
        "    vector_db.add_documents(documents=documents, ids=uuids)\n",
        "\n",
        "    time.sleep(60)  # Avoid exceeding API rate limits"
      ],
      "metadata": {
        "id": "hu4qL50rpPIm",
        "outputId": "2851a65d-49a1-44d1-ece9-dd520703ab75",
        "colab": {
          "base_uri": "https://localhost:8080/"
        }
      },
      "execution_count": 17,
      "outputs": [
        {
          "output_type": "stream",
          "name": "stderr",
          "text": [
            "10it [10:09, 60.99s/it]\n"
          ]
        }
      ]
    },
    {
      "cell_type": "code",
      "source": [
        "# Perform similarity search\n",
        "query = \"Aso\"\n",
        "results = vector_db.similarity_search(query, k=3)\n",
        "\n",
        "# Print the retrieved documents\n",
        "for res in results:\n",
        "    print(res.page_content)"
      ],
      "metadata": {
        "id": "TuNRxuuo7Mmy",
        "outputId": "7e6afbe2-1e1e-445d-96ac-8ff8720041e9",
        "colab": {
          "base_uri": "https://localhost:8080/"
        }
      },
      "execution_count": 18,
      "outputs": [
        {
          "output_type": "stream",
          "name": "stdout",
          "text": [
            "Ang Asya ay isang malawak na rehiyon na binubuo ng maraming bansa, at dahil dito, ang mga ugnayan sa pagitan ng mga bansang ito ay masalimuot at multi-faceted. Ang ilan sa mga bansa sa Asya ay may magandang relasyong diplomatiko, pang-ekonomiya at pangkultura, habang ang ilan ay may kasaysayan ng mga salungatan at hindi pagkakaunawaan. Halimbawa, ang mga bansa sa Timog Silangang Asya tulad ng Thailand, Vietnam, Indonesia, Malaysia, Pilipinas, Singapore, Brunei, Laos, Myanmar, at Cambodia ay mayroong rehiyonal na organisasyong intergovernmental na tinatawag na Association of Southeast Asian Nations (ASEAN), na nagtataguyod ng ekonomiya. , pampulitika, at pakikipagtulungang panseguridad sa mga miyembro nito. Katulad nito, ang Japan, South Korea, at China, tatlo sa nangingibabaw na ekonomiya sa Silangang Asya, ay lubos na umaasa, na may malaking halaga ng kalakalan at pamumuhunan na dumadaloy sa pagitan nila. Nagbabahagi rin sila ng makasaysayang at kultural na ugnayan, na may karaniwang pamana ng Confucian. Sa kabilang banda, may matagal nang tensyon sa pagitan ng Hilaga at Timog Korea na nagmula sa Digmaang Koreano at mga ideolohiyang pampulitika, at ang dalawang bansa ay teknikal na nakikipagdigma sa isa't isa. Katulad nito, ang relasyon sa pagitan ng India at Pakistan ay puno ng mga salungatan dahil sa mga hindi pagkakaunawaan sa teritoryo sa rehiyon ng Kashmir. Sa Gitnang Silangan, ang mga ugnayan sa pagitan ng mga bansa ay kadalasang naiimpluwensyahan ng mga paniniwalang relihiyoso at pampulitika, at maraming mga bansa ang bumuo ng mga alyansa batay sa magkabahaging mga ideolohiya o karaniwang mga estratehikong interes. Halimbawa, ang Saudi Arabia at iba pang mga estado ng Gulpo ay may malapit na ugnayan dahil sa kanilang magkakatulad na paniniwalang Sunni Muslim, habang ang Iran ay may malakas na ugnayan sa mga bansang tulad ng Syria dahil sa kanilang magkaparehong paniniwalang Shia Muslim. Sa pangkalahatan, ang mga ugnayan sa pagitan ng mga bansa sa rehiyon ng Asya ay naiimpluwensyahan ng isang malawak na iba't ibang mga kadahilanan, kabilang ang pang-ekonomiya at pampulitika na mga interes, pangkasaysayan at kultural na ugnayan, at mga pinagsasaluhang ideolohiya. Ang mga ugnayang ito ay patuloy na umuunlad, na may mga bagong alyansa na nabuo at ang mga lumang tensyon ay nalutas o muling umuusbong.   | Asia is a vast region that comprises of many countries, and as such, the relationships between these countries are complex and multi-faceted. Some of the countries in Asia have good diplomatic, economic and cultural relations, while some have a history of conflicts and disputes. For instance, countries in South East Asia such as Thailand, Vietnam, Indonesia, Malaysia, the Philippines, Singapore, Brunei, Laos, Myanmar, and Cambodia have a regional intergovernmental organization called the Association of Southeast Asian Nations (ASEAN), which promotes economic, political, and security cooperation among its members. Similarly, Japan, South Korea, and China, three of the dominant economies in East Asia, are highly interdependent, with a large amount of trade and investment flowing between them. They also share historical and cultural ties, with a common Confucian heritage.On the other hand, there are long-standing tensions between North and South Korea that stem from the Korean War and political ideologies, and the two countries are technically still at war with each other. Similarly, the relationship between India and Pakistan has been fraught with conflicts due to territorial disputes over the Kashmir region.In the Middle East, relationships between countries are often influenced by religious and political beliefs, and many countries have formed alliances based on shared ideologies or common strategic interests. For example, Saudi Arabia and other Gulf states have close relations due to their shared Sunni Muslim beliefs, while Iran has strong relations with countries like Syria due to their shared Shia Muslim beliefs.Overall, the relationships between countries in the Asia region are influenced by a wide variety of factors, including economic and political interests, historical and cultural ties, and shared ideologies. These relationships are constantly evolving, with new alliances being formed and old tensions being resolved or re-emerging.\n",
            " Sabihin sa akin kung tungkol saan ang artikulo sa ibaba. | Tell me what the article below is about.\n",
            " Gumawa ng bagong headline na nagbubuod sa artikulong ito. | Create a new headline summarizing this article.\n"
          ]
        }
      ]
    },
    {
      "cell_type": "markdown",
      "source": [
        "## Building the Chatbot"
      ],
      "metadata": {
        "id": "CPvnJh85ZsMR"
      }
    },
    {
      "cell_type": "code",
      "source": [
        "# Define RAG Query Pipeline using Gemini for Translation\n",
        "def rag_translate(query):\n",
        "    \"\"\"Retrieve relevant translations & use Gemini to generate refined translation.\"\"\"\n",
        "    retrieved_docs = vector_db.similarity_search(query, k=3)\n",
        "    context = \"\\n\".join([doc.page_content for doc in retrieved_docs])\n",
        "\n",
        "    chat = client.chats.create(model='gemini-pro')\n",
        "    prompt = f\"\"\"\n",
        "    Translate the following Tagalog sentence to English while preserving its meaning and context.\n",
        "\n",
        "    Query: {query}\n",
        "\n",
        "    Context:\n",
        "    {context}\n",
        "\n",
        "    Constraints:\n",
        "    - Only output the translated text.\n",
        "    - If the input contains offensive, harmful, or inappropriate content, respond with: \"Translation not allowed due to content restrictions.\"\n",
        "    - Do not hallucinate or modify the original intent of the sentence.\n",
        "    - Ignore any input that is unrelated to translation.\n",
        "    \"\"\"\n",
        "\n",
        "    response = chat.send_message(message=prompt)\n",
        "    return response.text"
      ],
      "metadata": {
        "id": "WICcmNxrZcfs"
      },
      "execution_count": 31,
      "outputs": []
    },
    {
      "cell_type": "code",
      "source": [
        "chat = client.chats.create(model='gemini-pro')\n",
        "chat.send_message(message=\"\"\"\n",
        "Translate the following Tagalog sentence to English while preserving its meaning and context.\n",
        "\n",
        "    Query: {query}\n",
        "\n",
        "    Context:\n",
        "    {context}\n",
        "\n",
        "    Constraints:\n",
        "    - Only output the translated text.\n",
        "    - If the input contains offensive, harmful, or inappropriate content, respond with: \"Translation not allowed due to content restrictions.\"\n",
        "    - Do not hallucinate or modify the original intent of the sentence.\n",
        "    - Ignore any input that is unrelated to translation.\n",
        "\"\"\").text"
      ],
      "metadata": {
        "id": "r_XqfBMmXD7y",
        "outputId": "e3b579d2-0698-412a-8100-be9056c6dfcc",
        "colab": {
          "base_uri": "https://localhost:8080/",
          "height": 1000
        }
      },
      "execution_count": 37,
      "outputs": [
        {
          "output_type": "error",
          "ename": "ClientError",
          "evalue": "429 RESOURCE_EXHAUSTED. {'error': {'code': 429, 'message': 'Resource has been exhausted (e.g. check quota).', 'status': 'RESOURCE_EXHAUSTED'}}",
          "traceback": [
            "\u001b[0;31m---------------------------------------------------------------------------\u001b[0m",
            "\u001b[0;31mClientError\u001b[0m                               Traceback (most recent call last)",
            "\u001b[0;32m<ipython-input-37-badcfc296ede>\u001b[0m in \u001b[0;36m<cell line: 0>\u001b[0;34m()\u001b[0m\n\u001b[1;32m      1\u001b[0m \u001b[0mchat\u001b[0m \u001b[0;34m=\u001b[0m \u001b[0mclient\u001b[0m\u001b[0;34m.\u001b[0m\u001b[0mchats\u001b[0m\u001b[0;34m.\u001b[0m\u001b[0mcreate\u001b[0m\u001b[0;34m(\u001b[0m\u001b[0mmodel\u001b[0m\u001b[0;34m=\u001b[0m\u001b[0;34m'gemini-pro'\u001b[0m\u001b[0;34m)\u001b[0m\u001b[0;34m\u001b[0m\u001b[0;34m\u001b[0m\u001b[0m\n\u001b[0;32m----> 2\u001b[0;31m chat.send_message(message=\"\"\"\n\u001b[0m\u001b[1;32m      3\u001b[0m \u001b[0mTranslate\u001b[0m \u001b[0mthe\u001b[0m \u001b[0mfollowing\u001b[0m \u001b[0mTagalog\u001b[0m \u001b[0msentence\u001b[0m \u001b[0mto\u001b[0m \u001b[0mEnglish\u001b[0m \u001b[0;32mwhile\u001b[0m \u001b[0mpreserving\u001b[0m \u001b[0mits\u001b[0m \u001b[0mmeaning\u001b[0m \u001b[0;32mand\u001b[0m \u001b[0mcontext\u001b[0m\u001b[0;34m.\u001b[0m\u001b[0;34m\u001b[0m\u001b[0;34m\u001b[0m\u001b[0m\n\u001b[1;32m      4\u001b[0m \u001b[0;34m\u001b[0m\u001b[0m\n\u001b[1;32m      5\u001b[0m     \u001b[0mQuery\u001b[0m\u001b[0;34m:\u001b[0m \u001b[0;34m{\u001b[0m\u001b[0mquery\u001b[0m\u001b[0;34m}\u001b[0m\u001b[0;34m\u001b[0m\u001b[0;34m\u001b[0m\u001b[0m\n",
            "\u001b[0;32m/usr/local/lib/python3.11/dist-packages/google/genai/chats.py\u001b[0m in \u001b[0;36msend_message\u001b[0;34m(self, message, config)\u001b[0m\n\u001b[1;32m     81\u001b[0m \u001b[0;34m\u001b[0m\u001b[0m\n\u001b[1;32m     82\u001b[0m     \u001b[0minput_content\u001b[0m \u001b[0;34m=\u001b[0m \u001b[0mt\u001b[0m\u001b[0;34m.\u001b[0m\u001b[0mt_content\u001b[0m\u001b[0;34m(\u001b[0m\u001b[0mself\u001b[0m\u001b[0;34m.\u001b[0m\u001b[0m_modules\u001b[0m\u001b[0;34m.\u001b[0m\u001b[0m_api_client\u001b[0m\u001b[0;34m,\u001b[0m \u001b[0mmessage\u001b[0m\u001b[0;34m)\u001b[0m\u001b[0;34m\u001b[0m\u001b[0;34m\u001b[0m\u001b[0m\n\u001b[0;32m---> 83\u001b[0;31m     response = self._modules.generate_content(\n\u001b[0m\u001b[1;32m     84\u001b[0m         \u001b[0mmodel\u001b[0m\u001b[0;34m=\u001b[0m\u001b[0mself\u001b[0m\u001b[0;34m.\u001b[0m\u001b[0m_model\u001b[0m\u001b[0;34m,\u001b[0m\u001b[0;34m\u001b[0m\u001b[0;34m\u001b[0m\u001b[0m\n\u001b[1;32m     85\u001b[0m         \u001b[0mcontents\u001b[0m\u001b[0;34m=\u001b[0m\u001b[0mself\u001b[0m\u001b[0;34m.\u001b[0m\u001b[0m_curated_history\u001b[0m \u001b[0;34m+\u001b[0m \u001b[0;34m[\u001b[0m\u001b[0minput_content\u001b[0m\u001b[0;34m]\u001b[0m\u001b[0;34m,\u001b[0m\u001b[0;34m\u001b[0m\u001b[0;34m\u001b[0m\u001b[0m\n",
            "\u001b[0;32m/usr/local/lib/python3.11/dist-packages/google/genai/models.py\u001b[0m in \u001b[0;36mgenerate_content\u001b[0;34m(self, model, contents, config)\u001b[0m\n\u001b[1;32m   4670\u001b[0m     \u001b[0;32mwhile\u001b[0m \u001b[0mremaining_remote_calls_afc\u001b[0m \u001b[0;34m>\u001b[0m \u001b[0;36m0\u001b[0m\u001b[0;34m:\u001b[0m\u001b[0;34m\u001b[0m\u001b[0;34m\u001b[0m\u001b[0m\n\u001b[1;32m   4671\u001b[0m       \u001b[0mi\u001b[0m \u001b[0;34m+=\u001b[0m \u001b[0;36m1\u001b[0m\u001b[0;34m\u001b[0m\u001b[0;34m\u001b[0m\u001b[0m\n\u001b[0;32m-> 4672\u001b[0;31m       response = self._generate_content(\n\u001b[0m\u001b[1;32m   4673\u001b[0m           \u001b[0mmodel\u001b[0m\u001b[0;34m=\u001b[0m\u001b[0mmodel\u001b[0m\u001b[0;34m,\u001b[0m \u001b[0mcontents\u001b[0m\u001b[0;34m=\u001b[0m\u001b[0mcontents\u001b[0m\u001b[0;34m,\u001b[0m \u001b[0mconfig\u001b[0m\u001b[0;34m=\u001b[0m\u001b[0mconfig\u001b[0m\u001b[0;34m\u001b[0m\u001b[0;34m\u001b[0m\u001b[0m\n\u001b[1;32m   4674\u001b[0m       )\n",
            "\u001b[0;32m/usr/local/lib/python3.11/dist-packages/google/genai/models.py\u001b[0m in \u001b[0;36m_generate_content\u001b[0;34m(self, model, contents, config)\u001b[0m\n\u001b[1;32m   3829\u001b[0m     \u001b[0mrequest_dict\u001b[0m \u001b[0;34m=\u001b[0m \u001b[0m_common\u001b[0m\u001b[0;34m.\u001b[0m\u001b[0mencode_unserializable_types\u001b[0m\u001b[0;34m(\u001b[0m\u001b[0mrequest_dict\u001b[0m\u001b[0;34m)\u001b[0m\u001b[0;34m\u001b[0m\u001b[0;34m\u001b[0m\u001b[0m\n\u001b[1;32m   3830\u001b[0m \u001b[0;34m\u001b[0m\u001b[0m\n\u001b[0;32m-> 3831\u001b[0;31m     response_dict = self._api_client.request(\n\u001b[0m\u001b[1;32m   3832\u001b[0m         \u001b[0;34m'post'\u001b[0m\u001b[0;34m,\u001b[0m \u001b[0mpath\u001b[0m\u001b[0;34m,\u001b[0m \u001b[0mrequest_dict\u001b[0m\u001b[0;34m,\u001b[0m \u001b[0mhttp_options\u001b[0m\u001b[0;34m\u001b[0m\u001b[0;34m\u001b[0m\u001b[0m\n\u001b[1;32m   3833\u001b[0m     )\n",
            "\u001b[0;32m/usr/local/lib/python3.11/dist-packages/google/genai/_api_client.py\u001b[0m in \u001b[0;36mrequest\u001b[0;34m(self, http_method, path, request_dict, http_options)\u001b[0m\n\u001b[1;32m    453\u001b[0m         \u001b[0mhttp_method\u001b[0m\u001b[0;34m,\u001b[0m \u001b[0mpath\u001b[0m\u001b[0;34m,\u001b[0m \u001b[0mrequest_dict\u001b[0m\u001b[0;34m,\u001b[0m \u001b[0mhttp_options\u001b[0m\u001b[0;34m\u001b[0m\u001b[0;34m\u001b[0m\u001b[0m\n\u001b[1;32m    454\u001b[0m     )\n\u001b[0;32m--> 455\u001b[0;31m     \u001b[0mresponse\u001b[0m \u001b[0;34m=\u001b[0m \u001b[0mself\u001b[0m\u001b[0;34m.\u001b[0m\u001b[0m_request\u001b[0m\u001b[0;34m(\u001b[0m\u001b[0mhttp_request\u001b[0m\u001b[0;34m,\u001b[0m \u001b[0mstream\u001b[0m\u001b[0;34m=\u001b[0m\u001b[0;32mFalse\u001b[0m\u001b[0;34m)\u001b[0m\u001b[0;34m\u001b[0m\u001b[0;34m\u001b[0m\u001b[0m\n\u001b[0m\u001b[1;32m    456\u001b[0m     \u001b[0mjson_response\u001b[0m \u001b[0;34m=\u001b[0m \u001b[0mresponse\u001b[0m\u001b[0;34m.\u001b[0m\u001b[0mjson\u001b[0m\u001b[0;34m\u001b[0m\u001b[0;34m\u001b[0m\u001b[0m\n\u001b[1;32m    457\u001b[0m     \u001b[0;32mif\u001b[0m \u001b[0;32mnot\u001b[0m \u001b[0mjson_response\u001b[0m\u001b[0;34m:\u001b[0m\u001b[0;34m\u001b[0m\u001b[0;34m\u001b[0m\u001b[0m\n",
            "\u001b[0;32m/usr/local/lib/python3.11/dist-packages/google/genai/_api_client.py\u001b[0m in \u001b[0;36m_request\u001b[0;34m(self, http_request, stream)\u001b[0m\n\u001b[1;32m    388\u001b[0m       )\n\u001b[1;32m    389\u001b[0m     \u001b[0;32melse\u001b[0m\u001b[0;34m:\u001b[0m\u001b[0;34m\u001b[0m\u001b[0;34m\u001b[0m\u001b[0m\n\u001b[0;32m--> 390\u001b[0;31m       \u001b[0;32mreturn\u001b[0m \u001b[0mself\u001b[0m\u001b[0;34m.\u001b[0m\u001b[0m_request_unauthorized\u001b[0m\u001b[0;34m(\u001b[0m\u001b[0mhttp_request\u001b[0m\u001b[0;34m,\u001b[0m \u001b[0mstream\u001b[0m\u001b[0;34m)\u001b[0m\u001b[0;34m\u001b[0m\u001b[0;34m\u001b[0m\u001b[0m\n\u001b[0m\u001b[1;32m    391\u001b[0m \u001b[0;34m\u001b[0m\u001b[0m\n\u001b[1;32m    392\u001b[0m   def _request_unauthorized(\n",
            "\u001b[0;32m/usr/local/lib/python3.11/dist-packages/google/genai/_api_client.py\u001b[0m in \u001b[0;36m_request_unauthorized\u001b[0;34m(self, http_request, stream)\u001b[0m\n\u001b[1;32m    411\u001b[0m         \u001b[0mstream\u001b[0m\u001b[0;34m=\u001b[0m\u001b[0mstream\u001b[0m\u001b[0;34m,\u001b[0m\u001b[0;34m\u001b[0m\u001b[0;34m\u001b[0m\u001b[0m\n\u001b[1;32m    412\u001b[0m     )\n\u001b[0;32m--> 413\u001b[0;31m     \u001b[0merrors\u001b[0m\u001b[0;34m.\u001b[0m\u001b[0mAPIError\u001b[0m\u001b[0;34m.\u001b[0m\u001b[0mraise_for_response\u001b[0m\u001b[0;34m(\u001b[0m\u001b[0mresponse\u001b[0m\u001b[0;34m)\u001b[0m\u001b[0;34m\u001b[0m\u001b[0;34m\u001b[0m\u001b[0m\n\u001b[0m\u001b[1;32m    414\u001b[0m     return HttpResponse(\n\u001b[1;32m    415\u001b[0m         \u001b[0mresponse\u001b[0m\u001b[0;34m.\u001b[0m\u001b[0mheaders\u001b[0m\u001b[0;34m,\u001b[0m \u001b[0mresponse\u001b[0m \u001b[0;32mif\u001b[0m \u001b[0mstream\u001b[0m \u001b[0;32melse\u001b[0m \u001b[0;34m[\u001b[0m\u001b[0mresponse\u001b[0m\u001b[0;34m.\u001b[0m\u001b[0mtext\u001b[0m\u001b[0;34m]\u001b[0m\u001b[0;34m\u001b[0m\u001b[0;34m\u001b[0m\u001b[0m\n",
            "\u001b[0;32m/usr/local/lib/python3.11/dist-packages/google/genai/errors.py\u001b[0m in \u001b[0;36mraise_for_response\u001b[0;34m(cls, response)\u001b[0m\n\u001b[1;32m     98\u001b[0m     \u001b[0mstatus_code\u001b[0m \u001b[0;34m=\u001b[0m \u001b[0mresponse\u001b[0m\u001b[0;34m.\u001b[0m\u001b[0mstatus_code\u001b[0m\u001b[0;34m\u001b[0m\u001b[0;34m\u001b[0m\u001b[0m\n\u001b[1;32m     99\u001b[0m     \u001b[0;32mif\u001b[0m \u001b[0;36m400\u001b[0m \u001b[0;34m<=\u001b[0m \u001b[0mstatus_code\u001b[0m \u001b[0;34m<\u001b[0m \u001b[0;36m500\u001b[0m\u001b[0;34m:\u001b[0m\u001b[0;34m\u001b[0m\u001b[0;34m\u001b[0m\u001b[0m\n\u001b[0;32m--> 100\u001b[0;31m       \u001b[0;32mraise\u001b[0m \u001b[0mClientError\u001b[0m\u001b[0;34m(\u001b[0m\u001b[0mstatus_code\u001b[0m\u001b[0;34m,\u001b[0m \u001b[0mresponse\u001b[0m\u001b[0;34m)\u001b[0m\u001b[0;34m\u001b[0m\u001b[0;34m\u001b[0m\u001b[0m\n\u001b[0m\u001b[1;32m    101\u001b[0m     \u001b[0;32melif\u001b[0m \u001b[0;36m500\u001b[0m \u001b[0;34m<=\u001b[0m \u001b[0mstatus_code\u001b[0m \u001b[0;34m<\u001b[0m \u001b[0;36m600\u001b[0m\u001b[0;34m:\u001b[0m\u001b[0;34m\u001b[0m\u001b[0;34m\u001b[0m\u001b[0m\n\u001b[1;32m    102\u001b[0m       \u001b[0;32mraise\u001b[0m \u001b[0mServerError\u001b[0m\u001b[0;34m(\u001b[0m\u001b[0mstatus_code\u001b[0m\u001b[0;34m,\u001b[0m \u001b[0mresponse\u001b[0m\u001b[0;34m)\u001b[0m\u001b[0;34m\u001b[0m\u001b[0;34m\u001b[0m\u001b[0m\n",
            "\u001b[0;31mClientError\u001b[0m: 429 RESOURCE_EXHAUSTED. {'error': {'code': 429, 'message': 'Resource has been exhausted (e.g. check quota).', 'status': 'RESOURCE_EXHAUSTED'}}"
          ]
        }
      ]
    },
    {
      "cell_type": "code",
      "source": [
        "# 🔹 Step 5: Test the Chatbot\n",
        "query = \"Ano ang papel ng kasaysayan sa mundo ngayon?\"\n",
        "translated_text = rag_translate(query)\n",
        "Markdown(translated_text)"
      ],
      "metadata": {
        "id": "aPmzUyXUZ8LW",
        "outputId": "21865e2a-312a-42c4-bd2a-6ae048a1c1c1",
        "colab": {
          "base_uri": "https://localhost:8080/",
          "height": 1000
        }
      },
      "execution_count": 32,
      "outputs": [
        {
          "output_type": "error",
          "ename": "ClientError",
          "evalue": "429 RESOURCE_EXHAUSTED. {'error': {'code': 429, 'message': 'Resource has been exhausted (e.g. check quota).', 'status': 'RESOURCE_EXHAUSTED'}}",
          "traceback": [
            "\u001b[0;31m---------------------------------------------------------------------------\u001b[0m",
            "\u001b[0;31mClientError\u001b[0m                               Traceback (most recent call last)",
            "\u001b[0;32m<ipython-input-32-1f358c60f741>\u001b[0m in \u001b[0;36m<cell line: 0>\u001b[0;34m()\u001b[0m\n\u001b[1;32m      1\u001b[0m \u001b[0;31m# 🔹 Step 5: Test the Chatbot\u001b[0m\u001b[0;34m\u001b[0m\u001b[0;34m\u001b[0m\u001b[0m\n\u001b[1;32m      2\u001b[0m \u001b[0mquery\u001b[0m \u001b[0;34m=\u001b[0m \u001b[0;34m\"Ano ang papel ng kasaysayan sa mundo ngayon?\"\u001b[0m\u001b[0;34m\u001b[0m\u001b[0;34m\u001b[0m\u001b[0m\n\u001b[0;32m----> 3\u001b[0;31m \u001b[0mtranslated_text\u001b[0m \u001b[0;34m=\u001b[0m \u001b[0mrag_translate\u001b[0m\u001b[0;34m(\u001b[0m\u001b[0mquery\u001b[0m\u001b[0;34m)\u001b[0m\u001b[0;34m\u001b[0m\u001b[0;34m\u001b[0m\u001b[0m\n\u001b[0m\u001b[1;32m      4\u001b[0m \u001b[0mMarkdown\u001b[0m\u001b[0;34m(\u001b[0m\u001b[0mtranslated_text\u001b[0m\u001b[0;34m)\u001b[0m\u001b[0;34m\u001b[0m\u001b[0;34m\u001b[0m\u001b[0m\n",
            "\u001b[0;32m<ipython-input-31-12f22fdb8931>\u001b[0m in \u001b[0;36mrag_translate\u001b[0;34m(query)\u001b[0m\n\u001b[1;32m     21\u001b[0m     \"\"\"\n\u001b[1;32m     22\u001b[0m \u001b[0;34m\u001b[0m\u001b[0m\n\u001b[0;32m---> 23\u001b[0;31m     \u001b[0mresponse\u001b[0m \u001b[0;34m=\u001b[0m \u001b[0mchat\u001b[0m\u001b[0;34m.\u001b[0m\u001b[0msend_message\u001b[0m\u001b[0;34m(\u001b[0m\u001b[0mmessage\u001b[0m\u001b[0;34m=\u001b[0m\u001b[0mprompt\u001b[0m\u001b[0;34m)\u001b[0m\u001b[0;34m\u001b[0m\u001b[0;34m\u001b[0m\u001b[0m\n\u001b[0m\u001b[1;32m     24\u001b[0m     \u001b[0;32mreturn\u001b[0m \u001b[0mresponse\u001b[0m\u001b[0;34m.\u001b[0m\u001b[0mtext\u001b[0m\u001b[0;34m\u001b[0m\u001b[0;34m\u001b[0m\u001b[0m\n",
            "\u001b[0;32m/usr/local/lib/python3.11/dist-packages/google/genai/chats.py\u001b[0m in \u001b[0;36msend_message\u001b[0;34m(self, message, config)\u001b[0m\n\u001b[1;32m     81\u001b[0m \u001b[0;34m\u001b[0m\u001b[0m\n\u001b[1;32m     82\u001b[0m     \u001b[0minput_content\u001b[0m \u001b[0;34m=\u001b[0m \u001b[0mt\u001b[0m\u001b[0;34m.\u001b[0m\u001b[0mt_content\u001b[0m\u001b[0;34m(\u001b[0m\u001b[0mself\u001b[0m\u001b[0;34m.\u001b[0m\u001b[0m_modules\u001b[0m\u001b[0;34m.\u001b[0m\u001b[0m_api_client\u001b[0m\u001b[0;34m,\u001b[0m \u001b[0mmessage\u001b[0m\u001b[0;34m)\u001b[0m\u001b[0;34m\u001b[0m\u001b[0;34m\u001b[0m\u001b[0m\n\u001b[0;32m---> 83\u001b[0;31m     response = self._modules.generate_content(\n\u001b[0m\u001b[1;32m     84\u001b[0m         \u001b[0mmodel\u001b[0m\u001b[0;34m=\u001b[0m\u001b[0mself\u001b[0m\u001b[0;34m.\u001b[0m\u001b[0m_model\u001b[0m\u001b[0;34m,\u001b[0m\u001b[0;34m\u001b[0m\u001b[0;34m\u001b[0m\u001b[0m\n\u001b[1;32m     85\u001b[0m         \u001b[0mcontents\u001b[0m\u001b[0;34m=\u001b[0m\u001b[0mself\u001b[0m\u001b[0;34m.\u001b[0m\u001b[0m_curated_history\u001b[0m \u001b[0;34m+\u001b[0m \u001b[0;34m[\u001b[0m\u001b[0minput_content\u001b[0m\u001b[0;34m]\u001b[0m\u001b[0;34m,\u001b[0m\u001b[0;34m\u001b[0m\u001b[0;34m\u001b[0m\u001b[0m\n",
            "\u001b[0;32m/usr/local/lib/python3.11/dist-packages/google/genai/models.py\u001b[0m in \u001b[0;36mgenerate_content\u001b[0;34m(self, model, contents, config)\u001b[0m\n\u001b[1;32m   4670\u001b[0m     \u001b[0;32mwhile\u001b[0m \u001b[0mremaining_remote_calls_afc\u001b[0m \u001b[0;34m>\u001b[0m \u001b[0;36m0\u001b[0m\u001b[0;34m:\u001b[0m\u001b[0;34m\u001b[0m\u001b[0;34m\u001b[0m\u001b[0m\n\u001b[1;32m   4671\u001b[0m       \u001b[0mi\u001b[0m \u001b[0;34m+=\u001b[0m \u001b[0;36m1\u001b[0m\u001b[0;34m\u001b[0m\u001b[0;34m\u001b[0m\u001b[0m\n\u001b[0;32m-> 4672\u001b[0;31m       response = self._generate_content(\n\u001b[0m\u001b[1;32m   4673\u001b[0m           \u001b[0mmodel\u001b[0m\u001b[0;34m=\u001b[0m\u001b[0mmodel\u001b[0m\u001b[0;34m,\u001b[0m \u001b[0mcontents\u001b[0m\u001b[0;34m=\u001b[0m\u001b[0mcontents\u001b[0m\u001b[0;34m,\u001b[0m \u001b[0mconfig\u001b[0m\u001b[0;34m=\u001b[0m\u001b[0mconfig\u001b[0m\u001b[0;34m\u001b[0m\u001b[0;34m\u001b[0m\u001b[0m\n\u001b[1;32m   4674\u001b[0m       )\n",
            "\u001b[0;32m/usr/local/lib/python3.11/dist-packages/google/genai/models.py\u001b[0m in \u001b[0;36m_generate_content\u001b[0;34m(self, model, contents, config)\u001b[0m\n\u001b[1;32m   3829\u001b[0m     \u001b[0mrequest_dict\u001b[0m \u001b[0;34m=\u001b[0m \u001b[0m_common\u001b[0m\u001b[0;34m.\u001b[0m\u001b[0mencode_unserializable_types\u001b[0m\u001b[0;34m(\u001b[0m\u001b[0mrequest_dict\u001b[0m\u001b[0;34m)\u001b[0m\u001b[0;34m\u001b[0m\u001b[0;34m\u001b[0m\u001b[0m\n\u001b[1;32m   3830\u001b[0m \u001b[0;34m\u001b[0m\u001b[0m\n\u001b[0;32m-> 3831\u001b[0;31m     response_dict = self._api_client.request(\n\u001b[0m\u001b[1;32m   3832\u001b[0m         \u001b[0;34m'post'\u001b[0m\u001b[0;34m,\u001b[0m \u001b[0mpath\u001b[0m\u001b[0;34m,\u001b[0m \u001b[0mrequest_dict\u001b[0m\u001b[0;34m,\u001b[0m \u001b[0mhttp_options\u001b[0m\u001b[0;34m\u001b[0m\u001b[0;34m\u001b[0m\u001b[0m\n\u001b[1;32m   3833\u001b[0m     )\n",
            "\u001b[0;32m/usr/local/lib/python3.11/dist-packages/google/genai/_api_client.py\u001b[0m in \u001b[0;36mrequest\u001b[0;34m(self, http_method, path, request_dict, http_options)\u001b[0m\n\u001b[1;32m    453\u001b[0m         \u001b[0mhttp_method\u001b[0m\u001b[0;34m,\u001b[0m \u001b[0mpath\u001b[0m\u001b[0;34m,\u001b[0m \u001b[0mrequest_dict\u001b[0m\u001b[0;34m,\u001b[0m \u001b[0mhttp_options\u001b[0m\u001b[0;34m\u001b[0m\u001b[0;34m\u001b[0m\u001b[0m\n\u001b[1;32m    454\u001b[0m     )\n\u001b[0;32m--> 455\u001b[0;31m     \u001b[0mresponse\u001b[0m \u001b[0;34m=\u001b[0m \u001b[0mself\u001b[0m\u001b[0;34m.\u001b[0m\u001b[0m_request\u001b[0m\u001b[0;34m(\u001b[0m\u001b[0mhttp_request\u001b[0m\u001b[0;34m,\u001b[0m \u001b[0mstream\u001b[0m\u001b[0;34m=\u001b[0m\u001b[0;32mFalse\u001b[0m\u001b[0;34m)\u001b[0m\u001b[0;34m\u001b[0m\u001b[0;34m\u001b[0m\u001b[0m\n\u001b[0m\u001b[1;32m    456\u001b[0m     \u001b[0mjson_response\u001b[0m \u001b[0;34m=\u001b[0m \u001b[0mresponse\u001b[0m\u001b[0;34m.\u001b[0m\u001b[0mjson\u001b[0m\u001b[0;34m\u001b[0m\u001b[0;34m\u001b[0m\u001b[0m\n\u001b[1;32m    457\u001b[0m     \u001b[0;32mif\u001b[0m \u001b[0;32mnot\u001b[0m \u001b[0mjson_response\u001b[0m\u001b[0;34m:\u001b[0m\u001b[0;34m\u001b[0m\u001b[0;34m\u001b[0m\u001b[0m\n",
            "\u001b[0;32m/usr/local/lib/python3.11/dist-packages/google/genai/_api_client.py\u001b[0m in \u001b[0;36m_request\u001b[0;34m(self, http_request, stream)\u001b[0m\n\u001b[1;32m    388\u001b[0m       )\n\u001b[1;32m    389\u001b[0m     \u001b[0;32melse\u001b[0m\u001b[0;34m:\u001b[0m\u001b[0;34m\u001b[0m\u001b[0;34m\u001b[0m\u001b[0m\n\u001b[0;32m--> 390\u001b[0;31m       \u001b[0;32mreturn\u001b[0m \u001b[0mself\u001b[0m\u001b[0;34m.\u001b[0m\u001b[0m_request_unauthorized\u001b[0m\u001b[0;34m(\u001b[0m\u001b[0mhttp_request\u001b[0m\u001b[0;34m,\u001b[0m \u001b[0mstream\u001b[0m\u001b[0;34m)\u001b[0m\u001b[0;34m\u001b[0m\u001b[0;34m\u001b[0m\u001b[0m\n\u001b[0m\u001b[1;32m    391\u001b[0m \u001b[0;34m\u001b[0m\u001b[0m\n\u001b[1;32m    392\u001b[0m   def _request_unauthorized(\n",
            "\u001b[0;32m/usr/local/lib/python3.11/dist-packages/google/genai/_api_client.py\u001b[0m in \u001b[0;36m_request_unauthorized\u001b[0;34m(self, http_request, stream)\u001b[0m\n\u001b[1;32m    411\u001b[0m         \u001b[0mstream\u001b[0m\u001b[0;34m=\u001b[0m\u001b[0mstream\u001b[0m\u001b[0;34m,\u001b[0m\u001b[0;34m\u001b[0m\u001b[0;34m\u001b[0m\u001b[0m\n\u001b[1;32m    412\u001b[0m     )\n\u001b[0;32m--> 413\u001b[0;31m     \u001b[0merrors\u001b[0m\u001b[0;34m.\u001b[0m\u001b[0mAPIError\u001b[0m\u001b[0;34m.\u001b[0m\u001b[0mraise_for_response\u001b[0m\u001b[0;34m(\u001b[0m\u001b[0mresponse\u001b[0m\u001b[0;34m)\u001b[0m\u001b[0;34m\u001b[0m\u001b[0;34m\u001b[0m\u001b[0m\n\u001b[0m\u001b[1;32m    414\u001b[0m     return HttpResponse(\n\u001b[1;32m    415\u001b[0m         \u001b[0mresponse\u001b[0m\u001b[0;34m.\u001b[0m\u001b[0mheaders\u001b[0m\u001b[0;34m,\u001b[0m \u001b[0mresponse\u001b[0m \u001b[0;32mif\u001b[0m \u001b[0mstream\u001b[0m \u001b[0;32melse\u001b[0m \u001b[0;34m[\u001b[0m\u001b[0mresponse\u001b[0m\u001b[0;34m.\u001b[0m\u001b[0mtext\u001b[0m\u001b[0;34m]\u001b[0m\u001b[0;34m\u001b[0m\u001b[0;34m\u001b[0m\u001b[0m\n",
            "\u001b[0;32m/usr/local/lib/python3.11/dist-packages/google/genai/errors.py\u001b[0m in \u001b[0;36mraise_for_response\u001b[0;34m(cls, response)\u001b[0m\n\u001b[1;32m     98\u001b[0m     \u001b[0mstatus_code\u001b[0m \u001b[0;34m=\u001b[0m \u001b[0mresponse\u001b[0m\u001b[0;34m.\u001b[0m\u001b[0mstatus_code\u001b[0m\u001b[0;34m\u001b[0m\u001b[0;34m\u001b[0m\u001b[0m\n\u001b[1;32m     99\u001b[0m     \u001b[0;32mif\u001b[0m \u001b[0;36m400\u001b[0m \u001b[0;34m<=\u001b[0m \u001b[0mstatus_code\u001b[0m \u001b[0;34m<\u001b[0m \u001b[0;36m500\u001b[0m\u001b[0;34m:\u001b[0m\u001b[0;34m\u001b[0m\u001b[0;34m\u001b[0m\u001b[0m\n\u001b[0;32m--> 100\u001b[0;31m       \u001b[0;32mraise\u001b[0m \u001b[0mClientError\u001b[0m\u001b[0;34m(\u001b[0m\u001b[0mstatus_code\u001b[0m\u001b[0;34m,\u001b[0m \u001b[0mresponse\u001b[0m\u001b[0;34m)\u001b[0m\u001b[0;34m\u001b[0m\u001b[0;34m\u001b[0m\u001b[0m\n\u001b[0m\u001b[1;32m    101\u001b[0m     \u001b[0;32melif\u001b[0m \u001b[0;36m500\u001b[0m \u001b[0;34m<=\u001b[0m \u001b[0mstatus_code\u001b[0m \u001b[0;34m<\u001b[0m \u001b[0;36m600\u001b[0m\u001b[0;34m:\u001b[0m\u001b[0;34m\u001b[0m\u001b[0;34m\u001b[0m\u001b[0m\n\u001b[1;32m    102\u001b[0m       \u001b[0;32mraise\u001b[0m \u001b[0mServerError\u001b[0m\u001b[0;34m(\u001b[0m\u001b[0mstatus_code\u001b[0m\u001b[0;34m,\u001b[0m \u001b[0mresponse\u001b[0m\u001b[0;34m)\u001b[0m\u001b[0;34m\u001b[0m\u001b[0;34m\u001b[0m\u001b[0m\n",
            "\u001b[0;31mClientError\u001b[0m: 429 RESOURCE_EXHAUSTED. {'error': {'code': 429, 'message': 'Resource has been exhausted (e.g. check quota).', 'status': 'RESOURCE_EXHAUSTED'}}"
          ]
        }
      ]
    },
    {
      "cell_type": "code",
      "source": [
        "while True:\n",
        "    user_input = input(\"User: \")\n",
        "\n",
        "    if user_input == \"end\":\n",
        "        break\n",
        "\n",
        "    response = rag_translate(user_input)\n",
        "    final_response = \"Translation Bot: \" + response.text\n",
        "    display(Markdown(final_response))"
      ],
      "metadata": {
        "id": "8AjC_j6CRWZZ"
      },
      "execution_count": null,
      "outputs": []
    }
  ],
  "metadata": {
    "language_info": {
      "name": "python"
    },
    "colab": {
      "provenance": [],
      "toc_visible": true,
      "include_colab_link": true
    },
    "kernelspec": {
      "name": "python3",
      "display_name": "Python 3"
    }
  },
  "nbformat": 4,
  "nbformat_minor": 0
}